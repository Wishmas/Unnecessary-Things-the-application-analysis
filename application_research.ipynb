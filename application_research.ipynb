{
 "cells": [
  {
   "cell_type": "markdown",
   "id": "41f7bb75",
   "metadata": {},
   "source": [
    "# Проект по анализу деятельности сервиса \"Ненужные вещи\""
   ]
  },
  {
   "cell_type": "markdown",
   "id": "25c21f18",
   "metadata": {},
   "source": [
    "Данная работа посвящена исследованию приложения, занимающегося продажей ненужных вещей. Исследование будет сконцентрировано на анализе пользовательского поведения, выделении групп пользователей по характерным признакам и проверке свзяанных с ними гипотез."
   ]
  },
  {
   "cell_type": "markdown",
   "id": "c090ede2",
   "metadata": {},
   "source": [
    "## Материалы проекта"
   ]
  },
  {
   "cell_type": "markdown",
   "id": "a40f7170",
   "metadata": {},
   "source": [
    "Ссылка на презентацию: https://drive.google.com/file/d/1LW1d9_ye7WAjQTV_RtNO-cEepkRMP4yn/view?usp=sharing"
   ]
  },
  {
   "cell_type": "markdown",
   "id": "2a31f118",
   "metadata": {},
   "source": [
    "Ссылка на дашборд: https://public.tableau.com/app/profile/wishmas/viz/___16717100890990/Dashboard1?publish=yes"
   ]
  },
  {
   "cell_type": "markdown",
   "id": "ab6a4f03",
   "metadata": {},
   "source": [
    "## Декомпозиция проекта"
   ]
  },
  {
   "cell_type": "markdown",
   "id": "37a7bc5e",
   "metadata": {},
   "source": [
    "1. **Рассмотрение и предобработка данных**\n",
    "   1. Изменение названий столбцов\n",
    "   2. Проверка на явные и неявные дубликаты\n",
    "   3. Проверка на пропуски\n",
    "   4. Проверка и изменение типов данных\n",
    "   5. Выводы по итогам предобработки"
   ]
  },
  {
   "cell_type": "markdown",
   "id": "f4309d90",
   "metadata": {},
   "source": [
    "2. **Исследовательский анализ**\n",
    "   1. Выявление и визуализация общих закономерностей в данных\n",
    "   2. Анализ поведения пользователей в контексте следующих метрик:\n",
    "      * Retention Rate (возвращение пользователей в приложение)\n",
    "      * Время, проведенное в приложении (выделение пользовательских сессий)\n",
    "      * Частота совершения событий (онлайн приложения по дням)\n",
    "      * Конверсия пользователей в целевое действие (частота совершения contacts_show)\n",
    "   3. Построение наглядных таблиц и визуализаций\n",
    "   4. Промежуточные выводы"
   ]
  },
  {
   "cell_type": "markdown",
   "id": "0405fff9",
   "metadata": {},
   "source": [
    "3. **Сегментация пользователей**\n",
    "   1. Сегментация пользователей на основании полученных инсайтов \n",
    "   2. Ранжирование групп по уровню \"полезности\"\n",
    "   3. Выводы по сегментации"
   ]
  },
  {
   "cell_type": "markdown",
   "id": "0fa09edc",
   "metadata": {},
   "source": [
    "4. **Ответы на вопросы исследования**\n",
    "   1. Формулирование ответа на вопрос о том, какая категория пользователей больше всего склонна \n",
    "      возвращаться в приложение\n",
    "   2. Формулирование ответа на вопрос о том, какая категория пользователей обладает наилучшей\n",
    "      конверсией в ключевое действие"
   ]
  },
  {
   "cell_type": "markdown",
   "id": "fc63bf20",
   "metadata": {},
   "source": [
    "5. **Проверка гипотез по пользовательским группам**\n",
    "   1. Проверка гипотезы: \"Группы пользователей разных браузеров демонстрируют разную конверсию в просмотры контактов\"\n",
    "      * Тестирование \n",
    "      * Вывод\n",
    "   2. Проверка гипотезы: \"Конверсия в целевое действие пользователей, которые нажали на рекомендованное объявление, но не      добавляли его в избранное, выше, чем пользователей, которые добавили объявление в избранное, но не кликали на рекомендации\"\n",
    "      * Тестирование\n",
    "      * Вывод\n",
    "   3. Общий вывод по проверке гипотез гипотез"
   ]
  },
  {
   "cell_type": "markdown",
   "id": "f965c821",
   "metadata": {},
   "source": [
    "6. **Подведение итогов**"
   ]
  },
  {
   "cell_type": "markdown",
   "id": "e2871eb7",
   "metadata": {},
   "source": [
    "## Предобработка"
   ]
  },
  {
   "cell_type": "code",
   "execution_count": 1,
   "id": "af294467",
   "metadata": {},
   "outputs": [],
   "source": [
    "import pandas as pd\n",
    "import matplotlib.pyplot as plt\n",
    "import plotly.express as px\n",
    "from plotly import graph_objects as go\n",
    "import numpy as np\n",
    "from scipy import stats as st\n",
    "import math as mth"
   ]
  },
  {
   "cell_type": "markdown",
   "id": "79ac6a28",
   "metadata": {},
   "source": [
    "Достанем данные из базы:"
   ]
  },
  {
   "cell_type": "code",
   "execution_count": 2,
   "id": "34e780a4",
   "metadata": {},
   "outputs": [],
   "source": [
    "ms = pd.read_csv('mobile_sourсes.csv')\n",
    "md = pd.read_csv('mobile_dataset.csv')"
   ]
  },
  {
   "cell_type": "code",
   "execution_count": 3,
   "id": "e812adc8",
   "metadata": {},
   "outputs": [
    {
     "data": {
      "text/html": [
       "<div>\n",
       "<style scoped>\n",
       "    .dataframe tbody tr th:only-of-type {\n",
       "        vertical-align: middle;\n",
       "    }\n",
       "\n",
       "    .dataframe tbody tr th {\n",
       "        vertical-align: top;\n",
       "    }\n",
       "\n",
       "    .dataframe thead th {\n",
       "        text-align: right;\n",
       "    }\n",
       "</style>\n",
       "<table border=\"1\" class=\"dataframe\">\n",
       "  <thead>\n",
       "    <tr style=\"text-align: right;\">\n",
       "      <th></th>\n",
       "      <th>userId</th>\n",
       "      <th>source</th>\n",
       "    </tr>\n",
       "  </thead>\n",
       "  <tbody>\n",
       "    <tr>\n",
       "      <th>0</th>\n",
       "      <td>020292ab-89bc-4156-9acf-68bc2783f894</td>\n",
       "      <td>other</td>\n",
       "    </tr>\n",
       "    <tr>\n",
       "      <th>1</th>\n",
       "      <td>cf7eda61-9349-469f-ac27-e5b6f5ec475c</td>\n",
       "      <td>yandex</td>\n",
       "    </tr>\n",
       "    <tr>\n",
       "      <th>2</th>\n",
       "      <td>8c356c42-3ba9-4cb6-80b8-3f868d0192c3</td>\n",
       "      <td>yandex</td>\n",
       "    </tr>\n",
       "    <tr>\n",
       "      <th>3</th>\n",
       "      <td>d9b06b47-0f36-419b-bbb0-3533e582a6cb</td>\n",
       "      <td>other</td>\n",
       "    </tr>\n",
       "    <tr>\n",
       "      <th>4</th>\n",
       "      <td>f32e1e2a-3027-4693-b793-b7b3ff274439</td>\n",
       "      <td>google</td>\n",
       "    </tr>\n",
       "  </tbody>\n",
       "</table>\n",
       "</div>"
      ],
      "text/plain": [
       "                                 userId  source\n",
       "0  020292ab-89bc-4156-9acf-68bc2783f894   other\n",
       "1  cf7eda61-9349-469f-ac27-e5b6f5ec475c  yandex\n",
       "2  8c356c42-3ba9-4cb6-80b8-3f868d0192c3  yandex\n",
       "3  d9b06b47-0f36-419b-bbb0-3533e582a6cb   other\n",
       "4  f32e1e2a-3027-4693-b793-b7b3ff274439  google"
      ]
     },
     "metadata": {},
     "output_type": "display_data"
    },
    {
     "data": {
      "text/html": [
       "<div>\n",
       "<style scoped>\n",
       "    .dataframe tbody tr th:only-of-type {\n",
       "        vertical-align: middle;\n",
       "    }\n",
       "\n",
       "    .dataframe tbody tr th {\n",
       "        vertical-align: top;\n",
       "    }\n",
       "\n",
       "    .dataframe thead th {\n",
       "        text-align: right;\n",
       "    }\n",
       "</style>\n",
       "<table border=\"1\" class=\"dataframe\">\n",
       "  <thead>\n",
       "    <tr style=\"text-align: right;\">\n",
       "      <th></th>\n",
       "      <th>event.time</th>\n",
       "      <th>event.name</th>\n",
       "      <th>user.id</th>\n",
       "    </tr>\n",
       "  </thead>\n",
       "  <tbody>\n",
       "    <tr>\n",
       "      <th>0</th>\n",
       "      <td>2019-10-07 00:00:00.431357</td>\n",
       "      <td>advert_open</td>\n",
       "      <td>020292ab-89bc-4156-9acf-68bc2783f894</td>\n",
       "    </tr>\n",
       "    <tr>\n",
       "      <th>1</th>\n",
       "      <td>2019-10-07 00:00:01.236320</td>\n",
       "      <td>tips_show</td>\n",
       "      <td>020292ab-89bc-4156-9acf-68bc2783f894</td>\n",
       "    </tr>\n",
       "    <tr>\n",
       "      <th>2</th>\n",
       "      <td>2019-10-07 00:00:02.245341</td>\n",
       "      <td>tips_show</td>\n",
       "      <td>cf7eda61-9349-469f-ac27-e5b6f5ec475c</td>\n",
       "    </tr>\n",
       "    <tr>\n",
       "      <th>3</th>\n",
       "      <td>2019-10-07 00:00:07.039334</td>\n",
       "      <td>tips_show</td>\n",
       "      <td>020292ab-89bc-4156-9acf-68bc2783f894</td>\n",
       "    </tr>\n",
       "    <tr>\n",
       "      <th>4</th>\n",
       "      <td>2019-10-07 00:00:56.319813</td>\n",
       "      <td>advert_open</td>\n",
       "      <td>cf7eda61-9349-469f-ac27-e5b6f5ec475c</td>\n",
       "    </tr>\n",
       "  </tbody>\n",
       "</table>\n",
       "</div>"
      ],
      "text/plain": [
       "                   event.time   event.name  \\\n",
       "0  2019-10-07 00:00:00.431357  advert_open   \n",
       "1  2019-10-07 00:00:01.236320    tips_show   \n",
       "2  2019-10-07 00:00:02.245341    tips_show   \n",
       "3  2019-10-07 00:00:07.039334    tips_show   \n",
       "4  2019-10-07 00:00:56.319813  advert_open   \n",
       "\n",
       "                                user.id  \n",
       "0  020292ab-89bc-4156-9acf-68bc2783f894  \n",
       "1  020292ab-89bc-4156-9acf-68bc2783f894  \n",
       "2  cf7eda61-9349-469f-ac27-e5b6f5ec475c  \n",
       "3  020292ab-89bc-4156-9acf-68bc2783f894  \n",
       "4  cf7eda61-9349-469f-ac27-e5b6f5ec475c  "
      ]
     },
     "metadata": {},
     "output_type": "display_data"
    }
   ],
   "source": [
    "display(ms.head())\n",
    "display(md.head())"
   ]
  },
  {
   "cell_type": "markdown",
   "id": "240290d8",
   "metadata": {},
   "source": [
    "Поменяем название столбцов:"
   ]
  },
  {
   "cell_type": "code",
   "execution_count": 4,
   "id": "3e3e361a",
   "metadata": {},
   "outputs": [],
   "source": [
    "ms = ms.rename(columns={'userId' : 'user_id'})"
   ]
  },
  {
   "cell_type": "code",
   "execution_count": 5,
   "id": "e6281603",
   "metadata": {},
   "outputs": [],
   "source": [
    "md.columns = ['e_time','e_name','user_id']"
   ]
  },
  {
   "cell_type": "markdown",
   "id": "46c06e9d",
   "metadata": {},
   "source": [
    "Проверим данные на наличие повторов:"
   ]
  },
  {
   "cell_type": "code",
   "execution_count": 6,
   "id": "6b1039f6",
   "metadata": {},
   "outputs": [
    {
     "name": "stdout",
     "output_type": "stream",
     "text": [
      "Повторов пользователей в таблице mobile_sources:  0\n",
      "Повторов пользователей в таблице mobile_datasets:  69904\n"
     ]
    }
   ],
   "source": [
    "print(f\"Повторов пользователей в таблице mobile_sources:  {ms['user_id'].duplicated().sum()}\")\n",
    "print(f\"Повторов пользователей в таблице mobile_datasets:  {md['user_id'].duplicated().sum()}\")"
   ]
  },
  {
   "cell_type": "markdown",
   "id": "b06c402c",
   "metadata": {},
   "source": [
    "Пользователи в первой таблице не повторяются, а во второй повторы есть, но они уместны, поскольку каждый пользователь мог совершить несколько действий."
   ]
  },
  {
   "cell_type": "markdown",
   "id": "c21c44e7",
   "metadata": {},
   "source": [
    "Проверим, все ли пользователи из таблицы с действиями есть в первой таблице:"
   ]
  },
  {
   "cell_type": "code",
   "execution_count": 7,
   "id": "333a0581",
   "metadata": {},
   "outputs": [
    {
     "name": "stdout",
     "output_type": "stream",
     "text": [
      "Данные в таблицах консистентны\n"
     ]
    }
   ],
   "source": [
    "if len(md[md['user_id'].isin(ms['user_id'])]) == len(md):\n",
    "    print('Данные в таблицах консистентны')\n",
    "else:\n",
    "    print('Данные в таблицах не консистентны')"
   ]
  },
  {
   "cell_type": "code",
   "execution_count": 8,
   "id": "e83c180e",
   "metadata": {},
   "outputs": [
    {
     "name": "stdout",
     "output_type": "stream",
     "text": [
      "Следовательно, всего в таблицах 4293 уникальных пользователя(-ей)\n"
     ]
    }
   ],
   "source": [
    "print(f\"Следовательно, всего в таблицах {ms['user_id'].nunique()} уникальных пользователя(-ей)\")"
   ]
  },
  {
   "cell_type": "markdown",
   "id": "0b23f3be",
   "metadata": {},
   "source": [
    "Проверим, есть ли в таблицах пропуски:"
   ]
  },
  {
   "cell_type": "code",
   "execution_count": 9,
   "id": "bca2e6b6",
   "metadata": {},
   "outputs": [
    {
     "name": "stdout",
     "output_type": "stream",
     "text": [
      "user_id    0\n",
      "source     0\n",
      "dtype: int64\n",
      "\n",
      "e_time     0\n",
      "e_name     0\n",
      "user_id    0\n",
      "dtype: int64\n"
     ]
    }
   ],
   "source": [
    "print(ms.isna().sum())\n",
    "print()\n",
    "print(md.isna().sum())"
   ]
  },
  {
   "cell_type": "markdown",
   "id": "b2f32db5",
   "metadata": {},
   "source": [
    "Пропусков не обнаружено."
   ]
  },
  {
   "cell_type": "markdown",
   "id": "6984a30c",
   "metadata": {},
   "source": [
    "Рассмотрим типы данных в таблицах:"
   ]
  },
  {
   "cell_type": "code",
   "execution_count": 10,
   "id": "436b3640",
   "metadata": {},
   "outputs": [
    {
     "name": "stdout",
     "output_type": "stream",
     "text": [
      "e_time     object\n",
      "e_name     object\n",
      "user_id    object\n",
      "dtype: object\n",
      "\n",
      "user_id    object\n",
      "source     object\n",
      "dtype: object\n"
     ]
    }
   ],
   "source": [
    "print(md.dtypes)\n",
    "print()\n",
    "print(ms.dtypes)"
   ]
  },
  {
   "cell_type": "code",
   "execution_count": 11,
   "id": "6be21ca7",
   "metadata": {},
   "outputs": [],
   "source": [
    "md['e_time'] = pd.to_datetime(md['e_time'])"
   ]
  },
  {
   "cell_type": "markdown",
   "id": "2e27d3bf",
   "metadata": {},
   "source": [
    "Столбец с датами привели к нужному типу."
   ]
  },
  {
   "cell_type": "markdown",
   "id": "69aa5968",
   "metadata": {},
   "source": [
    "Узнаем, есть ли в таблицах явные и неявные повторы:"
   ]
  },
  {
   "cell_type": "code",
   "execution_count": 12,
   "id": "05a90999",
   "metadata": {},
   "outputs": [],
   "source": [
    "def agg_events(table):\n",
    "    events_gr = table.groupby('e_name',as_index=False).agg({'user_id' : 'nunique'}).\\\n",
    "    sort_values(by='user_id',ascending=False).reset_index(drop=True).rename(columns={'user_id' : 'count'})\n",
    "    return events_gr   "
   ]
  },
  {
   "cell_type": "code",
   "execution_count": 13,
   "id": "c77a40bc",
   "metadata": {},
   "outputs": [
    {
     "data": {
      "text/html": [
       "<div>\n",
       "<style scoped>\n",
       "    .dataframe tbody tr th:only-of-type {\n",
       "        vertical-align: middle;\n",
       "    }\n",
       "\n",
       "    .dataframe tbody tr th {\n",
       "        vertical-align: top;\n",
       "    }\n",
       "\n",
       "    .dataframe thead th {\n",
       "        text-align: right;\n",
       "    }\n",
       "</style>\n",
       "<table border=\"1\" class=\"dataframe\">\n",
       "  <thead>\n",
       "    <tr style=\"text-align: right;\">\n",
       "      <th></th>\n",
       "      <th>e_name</th>\n",
       "      <th>count</th>\n",
       "    </tr>\n",
       "  </thead>\n",
       "  <tbody>\n",
       "    <tr>\n",
       "      <th>0</th>\n",
       "      <td>tips_show</td>\n",
       "      <td>2801</td>\n",
       "    </tr>\n",
       "    <tr>\n",
       "      <th>1</th>\n",
       "      <td>map</td>\n",
       "      <td>1456</td>\n",
       "    </tr>\n",
       "    <tr>\n",
       "      <th>2</th>\n",
       "      <td>photos_show</td>\n",
       "      <td>1095</td>\n",
       "    </tr>\n",
       "    <tr>\n",
       "      <th>3</th>\n",
       "      <td>contacts_show</td>\n",
       "      <td>979</td>\n",
       "    </tr>\n",
       "    <tr>\n",
       "      <th>4</th>\n",
       "      <td>search_1</td>\n",
       "      <td>787</td>\n",
       "    </tr>\n",
       "    <tr>\n",
       "      <th>5</th>\n",
       "      <td>advert_open</td>\n",
       "      <td>751</td>\n",
       "    </tr>\n",
       "    <tr>\n",
       "      <th>6</th>\n",
       "      <td>search_5</td>\n",
       "      <td>663</td>\n",
       "    </tr>\n",
       "    <tr>\n",
       "      <th>7</th>\n",
       "      <td>search_4</td>\n",
       "      <td>474</td>\n",
       "    </tr>\n",
       "    <tr>\n",
       "      <th>8</th>\n",
       "      <td>favorites_add</td>\n",
       "      <td>351</td>\n",
       "    </tr>\n",
       "    <tr>\n",
       "      <th>9</th>\n",
       "      <td>search_6</td>\n",
       "      <td>330</td>\n",
       "    </tr>\n",
       "    <tr>\n",
       "      <th>10</th>\n",
       "      <td>tips_click</td>\n",
       "      <td>322</td>\n",
       "    </tr>\n",
       "    <tr>\n",
       "      <th>11</th>\n",
       "      <td>search_2</td>\n",
       "      <td>242</td>\n",
       "    </tr>\n",
       "    <tr>\n",
       "      <th>12</th>\n",
       "      <td>contacts_call</td>\n",
       "      <td>213</td>\n",
       "    </tr>\n",
       "    <tr>\n",
       "      <th>13</th>\n",
       "      <td>search_3</td>\n",
       "      <td>208</td>\n",
       "    </tr>\n",
       "    <tr>\n",
       "      <th>14</th>\n",
       "      <td>search_7</td>\n",
       "      <td>157</td>\n",
       "    </tr>\n",
       "    <tr>\n",
       "      <th>15</th>\n",
       "      <td>show_contacts</td>\n",
       "      <td>7</td>\n",
       "    </tr>\n",
       "  </tbody>\n",
       "</table>\n",
       "</div>"
      ],
      "text/plain": [
       "           e_name  count\n",
       "0       tips_show   2801\n",
       "1             map   1456\n",
       "2     photos_show   1095\n",
       "3   contacts_show    979\n",
       "4        search_1    787\n",
       "5     advert_open    751\n",
       "6        search_5    663\n",
       "7        search_4    474\n",
       "8   favorites_add    351\n",
       "9        search_6    330\n",
       "10     tips_click    322\n",
       "11       search_2    242\n",
       "12  contacts_call    213\n",
       "13       search_3    208\n",
       "14       search_7    157\n",
       "15  show_contacts      7"
      ]
     },
     "execution_count": 13,
     "metadata": {},
     "output_type": "execute_result"
    }
   ],
   "source": [
    "events_gr = agg_events(md)\n",
    "events_gr"
   ]
  },
  {
   "cell_type": "code",
   "execution_count": 14,
   "id": "43682b49",
   "metadata": {},
   "outputs": [],
   "source": [
    "def agg_search(x):\n",
    "    if x.split('_')[0]=='search':\n",
    "        return 'search'\n",
    "    return x"
   ]
  },
  {
   "cell_type": "code",
   "execution_count": 15,
   "id": "5578908e",
   "metadata": {},
   "outputs": [],
   "source": [
    "md['e_name'] = md['e_name'].apply(agg_search)\n",
    "md['e_name'] = md['e_name'].replace('show_contacts','contacts_show')"
   ]
  },
  {
   "cell_type": "markdown",
   "id": "e19ec495",
   "metadata": {},
   "source": [
    "Разные параметры search, а также действия 'show_contacts' и 'contacts_show' в рамках данного исследования решено было приравнять."
   ]
  },
  {
   "cell_type": "markdown",
   "id": "f1516ac0",
   "metadata": {},
   "source": [
    "Итоговое распределение:"
   ]
  },
  {
   "cell_type": "code",
   "execution_count": 16,
   "id": "8aff9bd1",
   "metadata": {},
   "outputs": [
    {
     "data": {
      "image/png": "[encoded data removed]"
     },
     "metadata": {},
     "output_type": "display_data"
    }
   ],
   "source": [
    "events_gr = agg_events(md)\n",
    "fig = px.bar(events_gr,'count','e_name',color_discrete_sequence=['#e7b300'])\n",
    "fig.update_layout(width=500,height=500,title='Events distribution',template='simple_white',\n",
    "                 xaxis=dict(showgrid=False))\n",
    "fig.show(\"png\")"
   ]
  },
  {
   "cell_type": "markdown",
   "id": "43e276cc",
   "metadata": {},
   "source": [
    "Аналогично рассмотрим распределение источников из другой таблицы:"
   ]
  },
  {
   "cell_type": "code",
   "execution_count": 17,
   "id": "9e83eee8",
   "metadata": {},
   "outputs": [
    {
     "data": {
      "image/png": "[encoded data removed]"
     },
     "metadata": {},
     "output_type": "display_data"
    }
   ],
   "source": [
    "chan_distr = ms.groupby('source',as_index=False).agg({'user_id' : 'nunique'})\n",
    "fig = px.pie(values=chan_distr['user_id'], names=chan_distr['source'],\n",
    "             color_discrete_sequence=['#ff6666','#e7b300','#66b3ff'])\n",
    "fig.update_layout(width=450,height=450,title='Sources',font=dict(size=15),template='plotly_white')\n",
    "fig.show(\"png\")"
   ]
  },
  {
   "cell_type": "code",
   "execution_count": 18,
   "id": "27c002d9",
   "metadata": {},
   "outputs": [
    {
     "data": {
      "text/plain": [
       "0"
      ]
     },
     "execution_count": 18,
     "metadata": {},
     "output_type": "execute_result"
    }
   ],
   "source": [
    "md.duplicated().sum()"
   ]
  },
  {
   "cell_type": "code",
   "execution_count": 19,
   "id": "bee16449",
   "metadata": {},
   "outputs": [
    {
     "data": {
      "text/plain": [
       "0"
      ]
     },
     "execution_count": 19,
     "metadata": {},
     "output_type": "execute_result"
    }
   ],
   "source": [
    "ms.duplicated().sum()"
   ]
  },
  {
   "cell_type": "markdown",
   "id": "99dfc679",
   "metadata": {},
   "source": [
    "Явных дубликатов также обнаружено не было"
   ]
  },
  {
   "cell_type": "markdown",
   "id": "85c422b9",
   "metadata": {},
   "source": [
    "**Выводы по предобработке:** удалось почистить данные от повторов, а также убедиться, что таблицы консистентны и не содержат дубликатов. Было посчитано количество уникальных пользователей за рассматриваемый период. Кроме того, сами таблицы были приведены в более удобочитаемый вид через изменение названий столбцов. Наконец были построены визуализации, показывающие, как распределены разные категориальные переменные. После этого можно было переходить к следующему этапу."
   ]
  },
  {
   "cell_type": "markdown",
   "id": "eea65b0b",
   "metadata": {},
   "source": [
    "## Исследовательский анализ"
   ]
  },
  {
   "cell_type": "markdown",
   "id": "5dddecc9",
   "metadata": {},
   "source": [
    "Перейдем к непосредственному исследованию данных. Сперва объединим таблицы и узнаем, какой период времени охватывают наблюдения:"
   ]
  },
  {
   "cell_type": "code",
   "execution_count": 20,
   "id": "78c4fb18",
   "metadata": {},
   "outputs": [],
   "source": [
    "total = ms.merge(md,on='user_id',how='left')"
   ]
  },
  {
   "cell_type": "code",
   "execution_count": 21,
   "id": "d7ea92f0",
   "metadata": {},
   "outputs": [
    {
     "name": "stdout",
     "output_type": "stream",
     "text": [
      "Начало наблюдений: 2019-10-07 00:00:00.431357\n",
      "Конец наблюдений: 2019-11-03 23:58:12.532487\n",
      "Разница: 27 days 23:58:12.101130\n"
     ]
    }
   ],
   "source": [
    "print(f\"Начало наблюдений: {total['e_time'].min()}\")\n",
    "print(f\"Конец наблюдений: {total['e_time'].max()}\")\n",
    "print(f\"Разница: {total['e_time'].max() - total['e_time'].min()}\")"
   ]
  },
  {
   "cell_type": "markdown",
   "id": "15e0f16a",
   "metadata": {},
   "source": [
    "Рассчитаем retention rate для всех пользователей приложения. Для этого добавим в таблицу столбцы 'lifetime' и 'first_session', обозначающие количество дней, прошедшее между текущим и первым действиями пользователя, и время совершения первого действия соответственно. Также обозначим отдельной переменной дату совершения действия - она пригодится нам позднее:"
   ]
  },
  {
   "cell_type": "code",
   "execution_count": 22,
   "id": "1b11e47f",
   "metadata": {},
   "outputs": [],
   "source": [
    "fs = total.groupby('user_id',as_index=False).agg({'e_time' : 'min'}).rename(columns={'e_time':'first_session'})\n",
    "total = total.merge(fs,on='user_id',how='left')"
   ]
  },
  {
   "cell_type": "code",
   "execution_count": 23,
   "id": "bf7fed64",
   "metadata": {},
   "outputs": [],
   "source": [
    "total['lifetime'] = (total['e_time'] - total['first_session']).dt.days\n",
    "total['e_date'] = total['e_time'].dt.date"
   ]
  },
  {
   "cell_type": "markdown",
   "id": "7d07d484",
   "metadata": {},
   "source": [
    "Построим сводную таблицу и отобразим по ней тепловую карту, показывающую retention rate пользователей по лайфтайму:"
   ]
  },
  {
   "cell_type": "code",
   "execution_count": 24,
   "id": "c844adac",
   "metadata": {},
   "outputs": [],
   "source": [
    "users_grouped = total.pivot_table(index=total['first_session'].dt.date,\n",
    "                                  columns='lifetime', values='user_id', aggfunc='nunique').fillna(0)\n",
    "users_grouped = users_grouped.div(users_grouped[0],axis=0).drop(columns=0)"
   ]
  },
  {
   "cell_type": "code",
   "execution_count": 25,
   "id": "98a8470e",
   "metadata": {},
   "outputs": [
    {
     "data": {
      "image/png": "[encoded data removed]"
     },
     "metadata": {},
     "output_type": "display_data"
    }
   ],
   "source": [
    "fig = px.imshow(users_grouped,color_continuous_scale=px.colors.sequential.speed)\n",
    "fig.update_layout(width=700,height=700,title='Retention rate',font=dict(size=14))\n",
    "fig.show(\"png\")"
   ]
  },
  {
   "cell_type": "markdown",
   "id": "a17b7a4a",
   "metadata": {},
   "source": [
    "**Вывод:** возвращаемость пользователей оставляет желать лучшего. Уже на второй день после начала пользования приложением в него возвращаются лишь около 10 - 12% юзеров, а уже через неделю этот показатель опускается приблизительно  до 2 - 5%. Несмотря на то, что специфика приложения не располагает к тому, чтобы пользователи применяли его на регулярной основе, стоит все же рассмотреть добавление мотиваторов, подталкивающих к более стабильному посещению продукта (всплывающие напоминания, подборки с рекомендациями, акции и проч)."
   ]
  },
  {
   "cell_type": "markdown",
   "id": "a84233dc",
   "metadata": {},
   "source": [
    "Перейдем к рассмотрению пользовательских сессий. Рассчитаем среднюю и медианную длину сессии для всех пользователей:"
   ]
  },
  {
   "cell_type": "code",
   "execution_count": 26,
   "id": "807b49f4",
   "metadata": {},
   "outputs": [],
   "source": [
    "def dif(series):\n",
    "    return np.around((max(series) - min(series)).total_seconds() / 60,3)"
   ]
  },
  {
   "cell_type": "markdown",
   "id": "318833a9",
   "metadata": {},
   "source": [
    "Отсортируем таблицу по пользователям и времени и пронумеруем пользовательские сессии по дням:"
   ]
  },
  {
   "cell_type": "code",
   "execution_count": 27,
   "id": "ad6b738e",
   "metadata": {},
   "outputs": [],
   "source": [
    "total = total.sort_values(by=['user_id', 'e_time'])"
   ]
  },
  {
   "cell_type": "code",
   "execution_count": 28,
   "id": "8c6c4347",
   "metadata": {},
   "outputs": [],
   "source": [
    "total['session_number'] = total.groupby('user_id')['e_date'].rank(method='dense')"
   ]
  },
  {
   "cell_type": "code",
   "execution_count": 29,
   "id": "83c8ce2a",
   "metadata": {
    "scrolled": true
   },
   "outputs": [
    {
     "data": {
      "text/html": [
       "<div>\n",
       "<style scoped>\n",
       "    .dataframe tbody tr th:only-of-type {\n",
       "        vertical-align: middle;\n",
       "    }\n",
       "\n",
       "    .dataframe tbody tr th {\n",
       "        vertical-align: top;\n",
       "    }\n",
       "\n",
       "    .dataframe thead th {\n",
       "        text-align: right;\n",
       "    }\n",
       "</style>\n",
       "<table border=\"1\" class=\"dataframe\">\n",
       "  <thead>\n",
       "    <tr style=\"text-align: right;\">\n",
       "      <th></th>\n",
       "      <th>user_id</th>\n",
       "      <th>source</th>\n",
       "      <th>e_time</th>\n",
       "      <th>e_name</th>\n",
       "      <th>first_session</th>\n",
       "      <th>lifetime</th>\n",
       "      <th>e_date</th>\n",
       "      <th>session_number</th>\n",
       "    </tr>\n",
       "  </thead>\n",
       "  <tbody>\n",
       "    <tr>\n",
       "      <th>2171</th>\n",
       "      <td>0001b1d5-b74a-4cbf-aeb0-7df5947bf349</td>\n",
       "      <td>other</td>\n",
       "      <td>2019-10-07 13:39:45.989359</td>\n",
       "      <td>tips_show</td>\n",
       "      <td>2019-10-07 13:39:45.989359</td>\n",
       "      <td>0</td>\n",
       "      <td>2019-10-07</td>\n",
       "      <td>1.0</td>\n",
       "    </tr>\n",
       "    <tr>\n",
       "      <th>2172</th>\n",
       "      <td>0001b1d5-b74a-4cbf-aeb0-7df5947bf349</td>\n",
       "      <td>other</td>\n",
       "      <td>2019-10-07 13:40:31.052909</td>\n",
       "      <td>tips_show</td>\n",
       "      <td>2019-10-07 13:39:45.989359</td>\n",
       "      <td>0</td>\n",
       "      <td>2019-10-07</td>\n",
       "      <td>1.0</td>\n",
       "    </tr>\n",
       "    <tr>\n",
       "      <th>2173</th>\n",
       "      <td>0001b1d5-b74a-4cbf-aeb0-7df5947bf349</td>\n",
       "      <td>other</td>\n",
       "      <td>2019-10-07 13:41:05.722489</td>\n",
       "      <td>tips_show</td>\n",
       "      <td>2019-10-07 13:39:45.989359</td>\n",
       "      <td>0</td>\n",
       "      <td>2019-10-07</td>\n",
       "      <td>1.0</td>\n",
       "    </tr>\n",
       "    <tr>\n",
       "      <th>2174</th>\n",
       "      <td>0001b1d5-b74a-4cbf-aeb0-7df5947bf349</td>\n",
       "      <td>other</td>\n",
       "      <td>2019-10-07 13:43:20.735461</td>\n",
       "      <td>tips_show</td>\n",
       "      <td>2019-10-07 13:39:45.989359</td>\n",
       "      <td>0</td>\n",
       "      <td>2019-10-07</td>\n",
       "      <td>1.0</td>\n",
       "    </tr>\n",
       "    <tr>\n",
       "      <th>2175</th>\n",
       "      <td>0001b1d5-b74a-4cbf-aeb0-7df5947bf349</td>\n",
       "      <td>other</td>\n",
       "      <td>2019-10-07 13:45:30.917502</td>\n",
       "      <td>tips_show</td>\n",
       "      <td>2019-10-07 13:39:45.989359</td>\n",
       "      <td>0</td>\n",
       "      <td>2019-10-07</td>\n",
       "      <td>1.0</td>\n",
       "    </tr>\n",
       "  </tbody>\n",
       "</table>\n",
       "</div>"
      ],
      "text/plain": [
       "                                   user_id source                     e_time  \\\n",
       "2171  0001b1d5-b74a-4cbf-aeb0-7df5947bf349  other 2019-10-07 13:39:45.989359   \n",
       "2172  0001b1d5-b74a-4cbf-aeb0-7df5947bf349  other 2019-10-07 13:40:31.052909   \n",
       "2173  0001b1d5-b74a-4cbf-aeb0-7df5947bf349  other 2019-10-07 13:41:05.722489   \n",
       "2174  0001b1d5-b74a-4cbf-aeb0-7df5947bf349  other 2019-10-07 13:43:20.735461   \n",
       "2175  0001b1d5-b74a-4cbf-aeb0-7df5947bf349  other 2019-10-07 13:45:30.917502   \n",
       "\n",
       "         e_name              first_session  lifetime      e_date  \\\n",
       "2171  tips_show 2019-10-07 13:39:45.989359         0  2019-10-07   \n",
       "2172  tips_show 2019-10-07 13:39:45.989359         0  2019-10-07   \n",
       "2173  tips_show 2019-10-07 13:39:45.989359         0  2019-10-07   \n",
       "2174  tips_show 2019-10-07 13:39:45.989359         0  2019-10-07   \n",
       "2175  tips_show 2019-10-07 13:39:45.989359         0  2019-10-07   \n",
       "\n",
       "      session_number  \n",
       "2171             1.0  \n",
       "2172             1.0  \n",
       "2173             1.0  \n",
       "2174             1.0  \n",
       "2175             1.0  "
      ]
     },
     "execution_count": 29,
     "metadata": {},
     "output_type": "execute_result"
    }
   ],
   "source": [
    "total.head()"
   ]
  },
  {
   "cell_type": "markdown",
   "id": "b1572504",
   "metadata": {},
   "source": [
    "Выбор в пользу такого деления был сделан, поскольку процесс подбора покупок, сравнения цен и обзвона продавцов может быть достаточно протяженным и в теории легко способен растянуться на весь день с небольшими перерывами."
   ]
  },
  {
   "cell_type": "markdown",
   "id": "65728ec9",
   "metadata": {},
   "source": [
    "Теперь рассчитаем среднюю длину каждой сессии для каждого пользователя и сохраним результат в словарь:"
   ]
  },
  {
   "cell_type": "code",
   "execution_count": 30,
   "id": "7fa9a2d8",
   "metadata": {},
   "outputs": [],
   "source": [
    "all_users = total.user_id.unique()\n",
    "libr = {}\n",
    "for u in all_users:\n",
    "    a = total.query('user_id == @u')\n",
    "    a_gr = a.groupby('session_number').agg({'e_time':dif})\n",
    "    libr[u] = a_gr"
   ]
  },
  {
   "cell_type": "markdown",
   "id": "8b6e99d2",
   "metadata": {},
   "source": [
    "Наконец найдем среднюю сессию для каждого пользователя и посчитаем по ним общее среднее и общее медианное значение по таблице:"
   ]
  },
  {
   "cell_type": "code",
   "execution_count": 31,
   "id": "3c9683aa",
   "metadata": {},
   "outputs": [
    {
     "name": "stdout",
     "output_type": "stream",
     "text": [
      "Среднее время в приложении по всем пользователям: 62.66801 минут\n",
      "Медианное время в приложении по всем пользователям: 16.449 минут\n"
     ]
    }
   ],
   "source": [
    "avg_session_time = np.around(np.mean([libr[i]['e_time'].mean() for i in libr.keys()]),5)\n",
    "median_session_time = np.around(np.median([libr[i]['e_time'].mean() for i in libr.keys()]),5)\n",
    "print(f'Среднее время в приложении по всем пользователям: {avg_session_time} минут')\n",
    "print(f'Медианное время в приложении по всем пользователям: {median_session_time} минут')"
   ]
  },
  {
   "cell_type": "code",
   "execution_count": 32,
   "id": "0a60099e",
   "metadata": {
    "scrolled": false
   },
   "outputs": [
    {
     "data": {
      "image/png": "[encoded data removed]"
     },
     "metadata": {},
     "output_type": "display_data"
    }
   ],
   "source": [
    "fig = px.box([libr[i]['e_time'].mean() for i in libr.keys()],color_discrete_sequence=['#66b3ff'])\n",
    "fig.update_layout(width=700,height=500,title='Session time',font=dict(size=15),template='plotly_white',\n",
    "                 yaxis_title='minutes',xaxis_title=None)\n",
    "fig.update_yaxes(range = [0,140])\n",
    "fig.show(\"png\")"
   ]
  },
  {
   "cell_type": "markdown",
   "id": "86f493e9",
   "metadata": {},
   "source": [
    "**Вывод:** вопреки сделанному ранее предположению, большая часть пользовательских сессий все же находится в диапазоне от 6 - 10 минут до часа. Впрочем, имеется и серьезное количество выбросов, созданных пользователями, потратившими в приложении более 2 часов за раз. Отметим также высокое количество 'нулевых сессий', состоящих только из одного действия. Скорее всего, совершавшие их люди заходили в приложение по ошибке или просто жали на уведомление, а потом сразу же выходили. "
   ]
  },
  {
   "cell_type": "markdown",
   "id": "35ba1180",
   "metadata": {},
   "source": [
    "Обратим внимание на частоту совершения событий и на число ежедневно активных поользователей приложения. Построим отдельную таблицу с информацией о том, сколько пользователей заходило в приложение в каждый из имеющихся дней, с разбивкой на старых пользователей (которые до этого уже хоть раз посещали приложение) и новых (для которых эта сессия - первая)."
   ]
  },
  {
   "cell_type": "code",
   "execution_count": 33,
   "id": "eba656e6",
   "metadata": {},
   "outputs": [
    {
     "data": {
      "text/html": [
       "<div>\n",
       "<style scoped>\n",
       "    .dataframe tbody tr th:only-of-type {\n",
       "        vertical-align: middle;\n",
       "    }\n",
       "\n",
       "    .dataframe tbody tr th {\n",
       "        vertical-align: top;\n",
       "    }\n",
       "\n",
       "    .dataframe thead th {\n",
       "        text-align: right;\n",
       "    }\n",
       "</style>\n",
       "<table border=\"1\" class=\"dataframe\">\n",
       "  <thead>\n",
       "    <tr style=\"text-align: right;\">\n",
       "      <th></th>\n",
       "      <th>e_date</th>\n",
       "      <th>total_users</th>\n",
       "      <th>new_users</th>\n",
       "      <th>old_users</th>\n",
       "    </tr>\n",
       "  </thead>\n",
       "  <tbody>\n",
       "    <tr>\n",
       "      <th>0</th>\n",
       "      <td>2019-10-07</td>\n",
       "      <td>204</td>\n",
       "      <td>204</td>\n",
       "      <td>0</td>\n",
       "    </tr>\n",
       "    <tr>\n",
       "      <th>1</th>\n",
       "      <td>2019-10-08</td>\n",
       "      <td>204</td>\n",
       "      <td>192</td>\n",
       "      <td>12</td>\n",
       "    </tr>\n",
       "    <tr>\n",
       "      <th>2</th>\n",
       "      <td>2019-10-09</td>\n",
       "      <td>227</td>\n",
       "      <td>192</td>\n",
       "      <td>35</td>\n",
       "    </tr>\n",
       "    <tr>\n",
       "      <th>3</th>\n",
       "      <td>2019-10-10</td>\n",
       "      <td>233</td>\n",
       "      <td>188</td>\n",
       "      <td>45</td>\n",
       "    </tr>\n",
       "    <tr>\n",
       "      <th>4</th>\n",
       "      <td>2019-10-11</td>\n",
       "      <td>206</td>\n",
       "      <td>151</td>\n",
       "      <td>55</td>\n",
       "    </tr>\n",
       "  </tbody>\n",
       "</table>\n",
       "</div>"
      ],
      "text/plain": [
       "       e_date  total_users  new_users  old_users\n",
       "0  2019-10-07          204        204          0\n",
       "1  2019-10-08          204        192         12\n",
       "2  2019-10-09          227        192         35\n",
       "3  2019-10-10          233        188         45\n",
       "4  2019-10-11          206        151         55"
      ]
     },
     "execution_count": 33,
     "metadata": {},
     "output_type": "execute_result"
    }
   ],
   "source": [
    "users_number = total.groupby('e_date',as_index=False).agg({'user_id' : 'nunique'}).rename(columns={'user_id':'total_users'})\n",
    "users_number['new_users'] = total.query('lifetime == 0').groupby('e_date',as_index=False).\\\n",
    "agg({'user_id' : 'nunique'}).rename(columns={'user_id':'new_users'})['new_users']\n",
    "users_number['old_users'] = users_number['total_users'] - users_number['new_users']\n",
    "users_number.head()"
   ]
  },
  {
   "cell_type": "code",
   "execution_count": 34,
   "id": "902f8e15",
   "metadata": {
    "scrolled": false
   },
   "outputs": [
    {
     "data": {
      "image/png": "[encoded data removed]"
     },
     "metadata": {},
     "output_type": "display_data"
    }
   ],
   "source": [
    "fig = px.line(users_number, x='e_date', y=users_number.columns[1:4],color_discrete_sequence=['#ff6666','#e7b300','#66b3ff'])\n",
    "fig.update_layout(width=900,height=550,template='plotly_white',title='Frequency of visits',\n",
    "                 xaxis_title='Date',yaxis_title='Number of people')\n",
    "fig.update_traces(line=dict(width=3))\n",
    "fig.show(\"png\")"
   ]
  },
  {
   "cell_type": "markdown",
   "id": "08058a35",
   "metadata": {},
   "source": [
    "**Вывод:** суммарное количество ежедневных пользователей приложения остается относительно стабильным на протяжении всего времени наблюдения, варьируясь в диапазоне от 178 до 352 человек. Из этих людей большую часть как правило составляют новые пользователи, из которых лишь небольшая часть остается в приложении. Однако по графику видно, что устойчивая база постоянных пользователей все же постепенно растет, и ей нужно в этом способствовать. Чем больше решений будет принято для удержания людей в продукте и мотивирования их на совершение повторных покупок, тем лучше пойдут дела у компании."
   ]
  },
  {
   "cell_type": "markdown",
   "id": "342957e8",
   "metadata": {},
   "source": [
    "Наконец рассмотрим конверсию пользователей в целевое действие: просмотр номера телефона продавца. Для этого просто разделим количество уникальных пользователей, хоть раз совершивших нужное действие, на общее их количество:"
   ]
  },
  {
   "cell_type": "code",
   "execution_count": 35,
   "id": "ff67a368",
   "metadata": {},
   "outputs": [
    {
     "data": {
      "image/png": "[encoded data removed]"
     },
     "metadata": {},
     "output_type": "display_data"
    },
    {
     "name": "stdout",
     "output_type": "stream",
     "text": [
      "Конверсия в целевое действие: 22.85%\n"
     ]
    }
   ],
   "source": [
    "converted = total[total['e_name']=='contacts_show']['user_id'].nunique()\n",
    "conversion = np.around(converted / len(all_users),4)*100\n",
    "fig = px.funnel(y=['All users','Converted'],x=[len(all_users),converted],color_discrete_sequence=['#86b300'])\n",
    "fig.update_layout(width=800,height=450,title='Conversion to \"contacts_show\"',yaxis_title=None,\n",
    "                 font=dict(size=15),template='plotly_white')\n",
    "fig.show(\"png\")\n",
    "print(f'Конверсия в целевое действие: {conversion}%')"
   ]
  },
  {
   "cell_type": "markdown",
   "id": "1e73f3e1",
   "metadata": {},
   "source": [
    "**Вывод:** результат оказался достаточно неплохим: приблизительно каждый пятый пользователеь приложения так или иначе доходил до записи номера телефона продавца. Выделить универсальный пользовательский путь в данной ситуации тяжело, поскольку прийти к такому результату можно несколькими разными способами, однако определение такого маршрута с наибольшей конверсией могло бы стать хорошим подспорьем для изменения архитектуры приложения в будущем."
   ]
  },
  {
   "cell_type": "markdown",
   "id": "e90d8ab9",
   "metadata": {},
   "source": [
    "**Вывод по исследовательскому анализу:** результат исследования пользователей в совокупности показал достаточно неплохие результаты. С одной стороны, ретеншен оказался сравнительно низким и продемонстрировал слабую возвращаемость юзеров в продукт, но с другой стороны, графики зафиксировали устойчивый рост числа пользователей, совершающих вторую и более покупку. Также удалось с высокой уверенностью вывести некоторые паттерны поведения пользователей в рамках сессий и зафиксировать хорошую конверсию в целевое действие, которую, конечно, еще можно и нужно улучшать."
   ]
  },
  {
   "cell_type": "markdown",
   "id": "8412092a",
   "metadata": {},
   "source": [
    "## Сегментация "
   ]
  },
  {
   "cell_type": "markdown",
   "id": "b5a4b7a7",
   "metadata": {},
   "source": [
    "На этом этапе будем делить пользователей на группы в соответствии с информацией, полученной ранее, и исследовать эти группы обособленно, с целью определить, кто является целевой аудиторией приложения, а кто - побочной. "
   ]
  },
  {
   "cell_type": "markdown",
   "id": "c8c5f1c9",
   "metadata": {},
   "source": [
    "Хорошей идеей будет выделить в качестве сегментов группы пользователей с разным средним временем сессий, уже бегло рассмотренным ранее. Такое деление позволяет:\n",
    "   1. Быть уверенным, что пользователи в разных группах не будут пересекаться, поскольку деление однозначно\n",
    "   2. Реально воздействовать на получившиеся группы, поскольку пользователям с разным стилем \n",
    "      использования приложения лучше подходит разный интерфейс, который можно под них подстраивать"
   ]
  },
  {
   "cell_type": "markdown",
   "id": "9b193166",
   "metadata": {},
   "source": [
    "Используем перцентили, чтобы ровно поделить всех пользователей на 4 приблизительно одинаковые группы:"
   ]
  },
  {
   "cell_type": "code",
   "execution_count": 36,
   "id": "7dea6f15",
   "metadata": {},
   "outputs": [
    {
     "data": {
      "text/plain": [
       "array([  6.124 ,  16.449 ,  53.704 , 654.9686])"
      ]
     },
     "execution_count": 36,
     "metadata": {},
     "output_type": "execute_result"
    }
   ],
   "source": [
    "np.percentile([libr[i]['e_time'].mean() for i in libr.keys()],[25,50,75,99])"
   ]
  },
  {
   "cell_type": "code",
   "execution_count": 37,
   "id": "58c1c73c",
   "metadata": {},
   "outputs": [
    {
     "name": "stdout",
     "output_type": "stream",
     "text": [
      "Размер таблицы fast users: 1054\n",
      "Размер таблицы normal users: 1068\n",
      "Размер таблицы slow users: 1086\n",
      "Размер таблицы too slow users: 1085\n"
     ]
    }
   ],
   "source": [
    "fast_users = {}\n",
    "normal_users = {}\n",
    "slow_users = {}\n",
    "too_slow_users = {}\n",
    "\n",
    "for k in libr.keys():\n",
    "    if libr[k]['e_time'].mean() <= 6:\n",
    "        fast_users[k] = libr[k]['e_time'].mean()\n",
    "    elif libr[k]['e_time'].mean() <= 16:\n",
    "        normal_users[k] = libr[k]['e_time'].mean()\n",
    "    elif libr[k]['e_time'].mean() <= 53:\n",
    "        slow_users[k] = libr[k]['e_time'].mean()\n",
    "    else:\n",
    "        too_slow_users[k] = libr[k]['e_time'].mean()\n",
    "        \n",
    "print(f'Размер таблицы fast users: {len(fast_users)}')\n",
    "print(f'Размер таблицы normal users: {len(normal_users)}')\n",
    "print(f'Размер таблицы slow users: {len(slow_users)}')\n",
    "print(f'Размер таблицы too slow users: {len(too_slow_users)}')"
   ]
  },
  {
   "cell_type": "markdown",
   "id": "63fcb743",
   "metadata": {},
   "source": [
    "Получились отдельные таблицы для пользователей со средними сессиями до 6 минут, от 6 до 16 минут, от 16 до 53 минут и от 53 минут и выше."
   ]
  },
  {
   "cell_type": "code",
   "execution_count": 38,
   "id": "7a42c660",
   "metadata": {},
   "outputs": [],
   "source": [
    "def make_df(x):\n",
    "    x_df = pd.DataFrame.from_dict(x, orient='index')\n",
    "    x_df['user_id'] = x_df.index\n",
    "    x_df = x_df.reset_index(drop=True)\n",
    "    x_df.columns = ['avg_session','user_id']\n",
    "    x_df = x_df[['user_id','avg_session']]\n",
    "    return x_df"
   ]
  },
  {
   "cell_type": "code",
   "execution_count": 39,
   "id": "b6351483",
   "metadata": {},
   "outputs": [],
   "source": [
    "fast_users = make_df(fast_users)\n",
    "normal_users = make_df(normal_users)\n",
    "slow_users = make_df(slow_users)\n",
    "too_slow_users = make_df(too_slow_users)"
   ]
  },
  {
   "cell_type": "code",
   "execution_count": 40,
   "id": "312aa78b",
   "metadata": {},
   "outputs": [],
   "source": [
    "fast_users_total = total[total['user_id'].isin(fast_users['user_id'])]\n",
    "normal_users_total = total[total['user_id'].isin(normal_users['user_id'])]\n",
    "slow_users_total = total[total['user_id'].isin(slow_users['user_id'])]\n",
    "too_slow_users_total = total[total['user_id'].isin(too_slow_users['user_id'])]"
   ]
  },
  {
   "cell_type": "markdown",
   "id": "3309c6f7",
   "metadata": {},
   "source": [
    "Теперь, когда сегментирование окончено, можно переходить к сравнительному анализу. Для начала, рассчитаем конверсию в целевое действие по каждой из групп:"
   ]
  },
  {
   "cell_type": "code",
   "execution_count": 41,
   "id": "4f5a0760",
   "metadata": {},
   "outputs": [],
   "source": [
    "box = [fast_users_total,normal_users_total,slow_users_total,too_slow_users_total]\n",
    "box_names = ['fast users','normal users','slow users','too slow users']"
   ]
  },
  {
   "cell_type": "code",
   "execution_count": 42,
   "id": "c5c7046e",
   "metadata": {},
   "outputs": [
    {
     "name": "stdout",
     "output_type": "stream",
     "text": [
      "В группе fast users конверсия составляет 15.1%\n",
      "В группе normal users конверсия составляет 16.0%\n",
      "В группе slow users конверсия составляет 22.8%\n",
      "В группе too slow users конверсия составляет 37.1%\n"
     ]
    }
   ],
   "source": [
    "conversions = {}\n",
    "for k in range(len(box)):\n",
    "    t = box[k]\n",
    "    tt = box_names[k]\n",
    "    conversions[tt] = np.around(t[t['e_name']=='contacts_show']['user_id'].nunique() / t['user_id'].nunique(),3)*100\n",
    "    print(f\"В группе {tt} конверсия составляет {conversions[tt]}%\")"
   ]
  },
  {
   "cell_type": "code",
   "execution_count": 43,
   "id": "00a89c39",
   "metadata": {},
   "outputs": [
    {
     "data": {
      "image/png": "[encoded data removed]"
     },
     "metadata": {},
     "output_type": "display_data"
    }
   ],
   "source": [
    "fig = px.bar(x=[i for i in conversions.keys()],y=[i for i in conversions.values()],\n",
    "            color=[i for i in conversions.keys()],color_discrete_sequence=['#ff6666','#e7b300','#66b3ff','#86b300'])\n",
    "fig.update_layout(width=750,height=500,title='Segment conversion comparison',xaxis_title='segments',yaxis_title='%',\n",
    "                 font=dict(size=14),template='plotly_white')\n",
    "fig.show(\"png\")"
   ]
  },
  {
   "cell_type": "markdown",
   "id": "41d2c684",
   "metadata": {},
   "source": [
    "**Вывод:** неожиданно, но группа с самыми длинными сессиями показала ощутимо более высокий результат, чем прочие. Да и в целом, прослеживается тенденция, что чем дольше средняя сессия, тем больше вероятноть, что в какой-то момент пользователь все же совершит нужное действие. Возможно, это связано с тем, что за более длинный промежуток времени пользователь совершает большее количество всех возможных действий, что статистически повышает его вероятность кликнуть на просмотр контакта. Так или иначе, данный факт стоит взять на заметку и, к примеру, создать больше активностей, которым пользователи с большим количеством свободного времени могли бы себя посвятить. "
   ]
  },
  {
   "cell_type": "markdown",
   "id": "531f591a",
   "metadata": {},
   "source": [
    "Аналогично рассмотрим retention rate с разбивкой по группам:"
   ]
  },
  {
   "cell_type": "code",
   "execution_count": 44,
   "id": "be196e3b",
   "metadata": {},
   "outputs": [],
   "source": [
    "def show_retention(x,title):\n",
    "    users_grouped = x.pivot_table(index=x['first_session'].dt.date,\n",
    "                                  columns='lifetime', values='user_id', aggfunc='nunique').fillna(0)\n",
    "    users_grouped = users_grouped.div(users_grouped[0],axis=0).drop(columns=0)\n",
    "    fig = px.imshow(users_grouped,color_continuous_scale=px.colors.sequential.speed)\n",
    "    fig.update_layout(width=700,height=500,title=title,font=dict(size=14))\n",
    "    fig.show(\"png\")"
   ]
  },
  {
   "cell_type": "code",
   "execution_count": 45,
   "id": "906e405f",
   "metadata": {
    "scrolled": false
   },
   "outputs": [
    {
     "data": {
      "image/png": "[encoded data removed]"
     },
     "metadata": {},
     "output_type": "display_data"
    },
    {
     "data": {
      "image/png": "[encoded data removed]"
     },
     "metadata": {},
     "output_type": "display_data"
    },
    {
     "data": {
      "image/png": "[encoded data removed]"
     },
     "metadata": {},
     "output_type": "display_data"
    },
    {
     "data": {
      "image/png": "[encoded data removed]"
     },
     "metadata": {},
     "output_type": "display_data"
    }
   ],
   "source": [
    "show_retention(fast_users_total,'fast users')\n",
    "show_retention(normal_users_total,'normal users')\n",
    "show_retention(slow_users_total,'slow users')\n",
    "show_retention(too_slow_users_total,'too slow users')"
   ]
  },
  {
   "cell_type": "markdown",
   "id": "ba2d1518",
   "metadata": {},
   "source": [
    "**Вывод:** группа с самыми длинными сессиями и на этот раз показала впечатляющий результат с возращаемостью до 30% во второй день, что значительно выше среднего показателя по всем данным и показателей трех других групп, стабильно высокой возвращаемостью в течение всей первой недели и неплохой возвращаемостью на более поздних этапах. Три другие группы здесь показали себя примерно одинаково: чуть лучше выступил сегмент normal users, чуть хуже - два оставшихся. Но в целом, значимой разницы между ними выявить не удалось."
   ]
  },
  {
   "cell_type": "markdown",
   "id": "eb0d7929",
   "metadata": {},
   "source": [
    "**Вывод по сегментации:** определенно, по результатам данного этапа работы можно заключить, что ключевой аудиторией приложения должны являться пользователи, которые каждый раз проводят в нем больше времени, чем те, которые принимают решения и действуют за считанные минуты. Для них можно слегка исправить архитектуру, убедиться, что в приложении комфотрно находиться длительное время, добавить темную тему и дополнительные настройки интерфейса. "
   ]
  },
  {
   "cell_type": "markdown",
   "id": "46f72873",
   "metadata": {},
   "source": [
    "## Ответы на основные вопросы исследования"
   ]
  },
  {
   "cell_type": "markdown",
   "id": "e4c7259d",
   "metadata": {},
   "source": [
    "#### Пользователели, проводящие в приложении больше времени в рамках каждой сессии (от 53 минут и дольше), склонны возвращаться к нему чаще, чем пользователи с короткими сессиями."
   ]
  },
  {
   "cell_type": "markdown",
   "id": "8b5c2215",
   "metadata": {},
   "source": [
    "#### Пользователи с длинными сессиями (от 53 минут и дольше) чаще открывают номер продавца, чем пользователи с короткими сессиями."
   ]
  },
  {
   "cell_type": "markdown",
   "id": "4c6d8a4a",
   "metadata": {},
   "source": [
    "### Вывод:"
   ]
  },
  {
   "cell_type": "markdown",
   "id": "fe701e7d",
   "metadata": {},
   "source": [
    "Целевой аудиторией компании являются пользователи с длинными сессиями (в контексте исследования - те, кто суммарно проводит в приложении более 53 минут в день). Они более вдумчиво подходят к использования продукта, иногда берут паузы, но тем не менее часто доходят до финального этапа. Они часто склонны возвращаться к использованию приложения через день, через два и даже через неделю после установки, что говорит о том, что они к нему привыкают. В любом случае, на этих пользователях стоит состредоточиться и создать для них наиболее комфортные условия. Возможно, им трудно определиться или найти то, что необходимо. В таком случае, имеет смысл усовершенствовать поиск и расширить систему рекомендаций. Для более точного принятия решений, будет неплохо провести серию интервью с такими пользователями, чтобы лучше понять их user experience."
   ]
  },
  {
   "cell_type": "markdown",
   "id": "eace03f0",
   "metadata": {},
   "source": [
    "## Проверка гипотез"
   ]
  },
  {
   "cell_type": "markdown",
   "id": "141be584",
   "metadata": {},
   "source": [
    "Чтобы окончательно поставить точку в данном исследовании, необходимо провести проверку двух гипотез, которые потенциально могут быть полезны для улучшения приложения."
   ]
  },
  {
   "cell_type": "markdown",
   "id": "274114fa",
   "metadata": {},
   "source": [
    "Начнем с гипотезы о разности конверсии в целевое действие у пользователей Гугл и Яндекс:"
   ]
  },
  {
   "cell_type": "markdown",
   "id": "27b1d139",
   "metadata": {},
   "source": [
    "**H-0:** Конверсия пользователей разных браузеров статистически не отличается."
   ]
  },
  {
   "cell_type": "markdown",
   "id": "30c02d31",
   "metadata": {},
   "source": [
    "**H-1:** У пользователей разных браузеров статистически значимо разная конверсия."
   ]
  },
  {
   "cell_type": "code",
   "execution_count": 46,
   "id": "f9e6b973",
   "metadata": {},
   "outputs": [],
   "source": [
    "def z_test(successes1, successes2, trials1, trials2, alpha=0.05):\n",
    "    p1 = successes1 / trials1\n",
    "    p2 = successes2 / trials2\n",
    "\n",
    "    p_combined = (successes1 + successes2) / (trials1 + trials2)\n",
    "    difference = p1 - p2\n",
    "\n",
    "    z_value = difference / mth.sqrt(p_combined * (1 - p_combined) * (1/trials1 + 1/trials2)) \n",
    "    distr = st.norm(0, 1)  \n",
    "    p_value = (1 - distr.cdf(abs(z_value))) * 2 \n",
    "    print('p-значение: ', p_value)\n",
    "\n",
    "    if (p_value < alpha): \n",
    "        display('Отвергаем нулевую гипотезу, между выборками есть статистически значимые различия')\n",
    "    else:\n",
    "        display('Не получилось отвергнуть нулевую гипотезу, статистически значимых различий в выборках нет')"
   ]
  },
  {
   "cell_type": "code",
   "execution_count": 47,
   "id": "f6e3e03b",
   "metadata": {},
   "outputs": [],
   "source": [
    "converted_users = total[total['e_name']=='contacts_show']['user_id'].unique()"
   ]
  },
  {
   "cell_type": "code",
   "execution_count": 48,
   "id": "afd78a63",
   "metadata": {},
   "outputs": [],
   "source": [
    "def mark_convert(x):\n",
    "    if x in converted_users:\n",
    "        return 1\n",
    "    return 0"
   ]
  },
  {
   "cell_type": "code",
   "execution_count": 49,
   "id": "4865824a",
   "metadata": {},
   "outputs": [],
   "source": [
    "total['converted'] = total['user_id'].apply(mark_convert)"
   ]
  },
  {
   "cell_type": "code",
   "execution_count": 50,
   "id": "9c23ef3c",
   "metadata": {},
   "outputs": [],
   "source": [
    "yandex_total = total[total['source']=='yandex']\n",
    "google_total = total[total['source']=='google']"
   ]
  },
  {
   "cell_type": "code",
   "execution_count": 51,
   "id": "03d0c2c3",
   "metadata": {},
   "outputs": [],
   "source": [
    "yandex_users = yandex_total[['user_id','converted']].drop_duplicates()\n",
    "google_users = google_total[['user_id','converted']].drop_duplicates()"
   ]
  },
  {
   "cell_type": "code",
   "execution_count": 52,
   "id": "688ebbf4",
   "metadata": {},
   "outputs": [
    {
     "name": "stdout",
     "output_type": "stream",
     "text": [
      "Конверсия у пользователей Яндекса: 0.24715615305067218\n",
      "Конверсия у пользователей Гугл: 0.24357838795394154\n"
     ]
    }
   ],
   "source": [
    "print(f\"Конверсия у пользователей Яндекса: {yandex_users['converted'].mean()}\")\n",
    "print(f\"Конверсия у пользователей Гугл: {google_users['converted'].mean()}\")"
   ]
  },
  {
   "cell_type": "code",
   "execution_count": 53,
   "id": "bb06dd4d",
   "metadata": {},
   "outputs": [
    {
     "name": "stdout",
     "output_type": "stream",
     "text": [
      "p-значение:  0.8244316027993777\n"
     ]
    },
    {
     "data": {
      "text/plain": [
       "'Не получилось отвергнуть нулевую гипотезу, статистически значимых различий в выборках нет'"
      ]
     },
     "metadata": {},
     "output_type": "display_data"
    }
   ],
   "source": [
    "z_test(yandex_users['converted'].sum(), google_users['converted'].sum(), yandex_users['converted'].count(),\n",
    "                                         google_users['converted'].count(), alpha=0.05)"
   ]
  },
  {
   "cell_type": "markdown",
   "id": "3625865b",
   "metadata": {},
   "source": [
    "**Вывод:** коверсия в группах пользователей разных браузеров оказалась чрезвычайно близкой с различием менее процента. Статистический тест также опроверг наличие какой-либо существенной разницы. Все свидетельствует о том, что браузер не имеет никакого влияния на дальнейшее поведение человека."
   ]
  },
  {
   "cell_type": "markdown",
   "id": "f9923fb7",
   "metadata": {},
   "source": [
    "Теперь перейдем к проверке другой гипотезы: \"Конверсия в целевое действие пользователей, которые нажали на рекомендованное объявление, но не добавляли его в избранное, выше, чем пользователей, которые добавили объявление в избранное, но не кликали на рекомендации\"."
   ]
  },
  {
   "cell_type": "markdown",
   "id": "a76d44e0",
   "metadata": {},
   "source": [
    "**H-0:** У пользователей, использующих только рекомендации, и пользователей, добавляющих объявления в избранное без рекомендаций, одинаковая конверсия в целевое действие."
   ]
  },
  {
   "cell_type": "markdown",
   "id": "0b99f7b6",
   "metadata": {},
   "source": [
    "**H-1:** Конверсия пользователей, использующих только рекомендации, и пользователей, добавляющих объявления в избранное без рекомендаций, отличается."
   ]
  },
  {
   "cell_type": "markdown",
   "id": "cea15260",
   "metadata": {},
   "source": [
    "Построим выборки таким образом, чтобы в одной группе были только пользователи, использовавшие 'tips_click', но не использовавшие 'favorites_add', а во второй - наоборот. Таким образом, выборки не будут пересекаться."
   ]
  },
  {
   "cell_type": "code",
   "execution_count": 54,
   "id": "7f7bed4b",
   "metadata": {},
   "outputs": [],
   "source": [
    "tips_click_users = total[total['e_name']=='tips_click']['user_id'].unique()\n",
    "favotite_add_users = total[total['e_name']=='favorites_add']['user_id'].unique()"
   ]
  },
  {
   "cell_type": "code",
   "execution_count": 55,
   "id": "551a0805",
   "metadata": {},
   "outputs": [],
   "source": [
    "tips_click_total = total[['user_id','converted']].\\\n",
    "query('user_id in @tips_click_users').query('user_id not in @favotite_add_users').drop_duplicates()\n",
    "\n",
    "favotite_add_total = total[['user_id','converted']].\\\n",
    "query('user_id in @favotite_add_users').query('user_id not in @tips_click_users').drop_duplicates()"
   ]
  },
  {
   "cell_type": "code",
   "execution_count": 56,
   "id": "a5265778",
   "metadata": {},
   "outputs": [
    {
     "name": "stdout",
     "output_type": "stream",
     "text": [
      "Конверсия у пользователей, полагающихся на рекомендации: 0.296551724137931\n",
      "Конверсия у пользователей, использующих вкладку 'избранное': 0.3824451410658307\n"
     ]
    }
   ],
   "source": [
    "print(f\"Конверсия у пользователей, полагающихся на рекомендации: {tips_click_total['converted'].mean()}\")\n",
    "print(f\"Конверсия у пользователей, использующих вкладку 'избранное': {favotite_add_total['converted'].mean()}\")"
   ]
  },
  {
   "cell_type": "code",
   "execution_count": 57,
   "id": "2d78519e",
   "metadata": {
    "scrolled": true
   },
   "outputs": [
    {
     "name": "stdout",
     "output_type": "stream",
     "text": [
      "p-значение:  0.025592951043686973\n"
     ]
    },
    {
     "data": {
      "text/plain": [
       "'Отвергаем нулевую гипотезу, между выборками есть статистически значимые различия'"
      ]
     },
     "metadata": {},
     "output_type": "display_data"
    }
   ],
   "source": [
    "z_test(tips_click_total['converted'].sum(), favotite_add_total['converted'].sum(), tips_click_total['converted'].count(),\n",
    "                                         favotite_add_total['converted'].count(), alpha=0.05)"
   ]
  },
  {
   "cell_type": "markdown",
   "id": "7e362fbe",
   "metadata": {},
   "source": [
    "**Вывод:** проверка этой гипотезы показала, что пользователи, добавляющие товары в избранное вместо того, чтобы проходить по рекомендованным объявлениям, существенно чаще в конечном счете записывают номера продавцов этих товаров. Конверсия таких юзеров оказалась почти на 9% выше, и статистический тест также показал значимое расхождение."
   ]
  },
  {
   "cell_type": "markdown",
   "id": "70f18d0b",
   "metadata": {},
   "source": [
    "**Вывод по проверке гипотез:** предположение о различии пользователей разных браузеров себя не оправдало, а вот идея о том, что конверсия у пользователей, применяющих функцию \"избранное\", выше, чем у тех, кто руководствуется лишь рекомендациями, оказалась верной. Этот факт можно использовать для внесения изменений в приложение: имеет смысл чаще напоминать пользователям, что они могут сохранять понравившиеся товары. Также можно сделать вкладку с избранными объявлениями более интерактивной, добавить возможность создавать папки с объявлениями разной тематики, фильтровать их, делать поиск по объявлениям и т.д."
   ]
  },
  {
   "cell_type": "markdown",
   "id": "a870ef5e",
   "metadata": {},
   "source": [
    "## Подведение итогов"
   ]
  },
  {
   "cell_type": "markdown",
   "id": "dce5a878",
   "metadata": {},
   "source": [
    "Проведенное исследование позволило многое понять в работе приложения и выявить ключевые факторы, значимые для его успеха. "
   ]
  },
  {
   "cell_type": "markdown",
   "id": "759736dd",
   "metadata": {},
   "source": [
    "**В процессе работы удалось:**\n",
    "   1. Провести сегментацию пользователей и выявить целевую аудиторию приложения\n",
    "   2. Подсчитать retention rate всех пользователей и отдельных сегментов\n",
    "   3. Подсчитать конвесию всех пользователей и отдельных сегментов\n",
    "   4. Понять, как часто пользователи посещают приложение, какой онлайн у него \n",
    "      на ежедневной основе и каков этот онлайн по составу\n",
    "   5. Рассчитать пользовательсткие сессии и их продолжительность\n",
    "   6. Проверить важные для бизнеса гипотезы и сформулировать выводы"
   ]
  },
  {
   "cell_type": "markdown",
   "id": "77c2ba4f",
   "metadata": {},
   "source": [
    "**Рекомендации:**\n",
    "   1. Сделать приложение более пригодным для длительного использования:\n",
    "      * Добавить несколько тем для бэкграунда\n",
    "      * Упростить интерфейс\n",
    "      * Добавить больше возможных активностей    \n",
    "   2. Повысить популярность вкладки \"избранное\" и расширить ее функционал:\n",
    "      * Добавить возможность разбивать сохраненные объявления на папки\n",
    "      * Добавить поиск и фильтры по избранному\n",
    "      * Добавить напоминания о возможности сохранить понравившееся объявление    \n",
    "   3. Повысить возвращаемость клиентов:\n",
    "      * Провести серию акций, мотивирующих клиентов на повторуную покупку\n",
    "      * Добавить бонусы за просмотр объявлений в приложении\n",
    "      * Присылать пуш-уведомления пользователям, давно не заходившим в приложение"
   ]
  }
 ],
 "metadata": {
  "ExecuteTimeLog": [
   {
    "duration": 1172,
    "start_time": "2022-12-20T23:28:32.988Z"
   },
   {
    "duration": 380,
    "start_time": "2022-12-20T23:28:34.162Z"
   },
   {
    "duration": 16,
    "start_time": "2022-12-20T23:28:34.544Z"
   },
   {
    "duration": 16,
    "start_time": "2022-12-20T23:28:34.562Z"
   },
   {
    "duration": 3,
    "start_time": "2022-12-20T23:28:34.579Z"
   },
   {
    "duration": 11,
    "start_time": "2022-12-20T23:28:34.583Z"
   },
   {
    "duration": 11,
    "start_time": "2022-12-20T23:28:34.595Z"
   },
   {
    "duration": 5,
    "start_time": "2022-12-20T23:28:34.608Z"
   },
   {
    "duration": 21,
    "start_time": "2022-12-20T23:28:34.614Z"
   },
   {
    "duration": 5,
    "start_time": "2022-12-20T23:28:34.637Z"
   },
   {
    "duration": 46,
    "start_time": "2022-12-20T23:28:34.644Z"
   },
   {
    "duration": 3,
    "start_time": "2022-12-20T23:28:34.691Z"
   },
   {
    "duration": 29,
    "start_time": "2022-12-20T23:28:34.696Z"
   },
   {
    "duration": 3,
    "start_time": "2022-12-20T23:28:34.726Z"
   },
   {
    "duration": 24,
    "start_time": "2022-12-20T23:28:34.731Z"
   },
   {
    "duration": 132,
    "start_time": "2022-12-20T23:28:34.757Z"
   },
   {
    "duration": 0,
    "start_time": "2022-12-20T23:28:34.891Z"
   },
   {
    "duration": 0,
    "start_time": "2022-12-20T23:28:34.892Z"
   },
   {
    "duration": 0,
    "start_time": "2022-12-20T23:28:34.893Z"
   },
   {
    "duration": 0,
    "start_time": "2022-12-20T23:28:34.894Z"
   },
   {
    "duration": 0,
    "start_time": "2022-12-20T23:28:34.895Z"
   },
   {
    "duration": 0,
    "start_time": "2022-12-20T23:28:34.896Z"
   },
   {
    "duration": 0,
    "start_time": "2022-12-20T23:28:34.897Z"
   },
   {
    "duration": 0,
    "start_time": "2022-12-20T23:28:34.898Z"
   },
   {
    "duration": 0,
    "start_time": "2022-12-20T23:28:34.899Z"
   },
   {
    "duration": 0,
    "start_time": "2022-12-20T23:28:34.900Z"
   },
   {
    "duration": 0,
    "start_time": "2022-12-20T23:28:34.901Z"
   },
   {
    "duration": 0,
    "start_time": "2022-12-20T23:28:34.902Z"
   },
   {
    "duration": 0,
    "start_time": "2022-12-20T23:28:34.903Z"
   },
   {
    "duration": 0,
    "start_time": "2022-12-20T23:28:34.904Z"
   },
   {
    "duration": 0,
    "start_time": "2022-12-20T23:28:34.905Z"
   },
   {
    "duration": 0,
    "start_time": "2022-12-20T23:28:34.906Z"
   },
   {
    "duration": 0,
    "start_time": "2022-12-20T23:28:34.907Z"
   },
   {
    "duration": 0,
    "start_time": "2022-12-20T23:28:34.908Z"
   },
   {
    "duration": 0,
    "start_time": "2022-12-20T23:28:34.909Z"
   },
   {
    "duration": 0,
    "start_time": "2022-12-20T23:28:34.910Z"
   },
   {
    "duration": 0,
    "start_time": "2022-12-20T23:28:34.911Z"
   },
   {
    "duration": 0,
    "start_time": "2022-12-20T23:28:34.912Z"
   },
   {
    "duration": 0,
    "start_time": "2022-12-20T23:28:34.914Z"
   },
   {
    "duration": 0,
    "start_time": "2022-12-20T23:28:34.915Z"
   },
   {
    "duration": 0,
    "start_time": "2022-12-20T23:28:34.916Z"
   },
   {
    "duration": 0,
    "start_time": "2022-12-20T23:28:34.917Z"
   },
   {
    "duration": 0,
    "start_time": "2022-12-20T23:28:34.918Z"
   },
   {
    "duration": 0,
    "start_time": "2022-12-20T23:28:34.919Z"
   },
   {
    "duration": 0,
    "start_time": "2022-12-20T23:28:34.920Z"
   },
   {
    "duration": 0,
    "start_time": "2022-12-20T23:28:34.921Z"
   },
   {
    "duration": 0,
    "start_time": "2022-12-20T23:28:34.922Z"
   },
   {
    "duration": 0,
    "start_time": "2022-12-20T23:28:34.978Z"
   },
   {
    "duration": 0,
    "start_time": "2022-12-20T23:28:34.979Z"
   },
   {
    "duration": 0,
    "start_time": "2022-12-20T23:28:34.980Z"
   },
   {
    "duration": 0,
    "start_time": "2022-12-20T23:28:34.981Z"
   },
   {
    "duration": 0,
    "start_time": "2022-12-20T23:28:34.982Z"
   },
   {
    "duration": 0,
    "start_time": "2022-12-20T23:28:34.983Z"
   },
   {
    "duration": 505,
    "start_time": "2022-12-20T23:32:24.990Z"
   },
   {
    "duration": 17,
    "start_time": "2022-12-20T23:32:30.665Z"
   },
   {
    "duration": 6,
    "start_time": "2022-12-20T23:32:30.684Z"
   },
   {
    "duration": 29,
    "start_time": "2022-12-20T23:32:30.810Z"
   },
   {
    "duration": 26,
    "start_time": "2022-12-20T23:32:30.964Z"
   },
   {
    "duration": 11,
    "start_time": "2022-12-20T23:32:31.132Z"
   },
   {
    "duration": 58,
    "start_time": "2022-12-20T23:32:31.450Z"
   },
   {
    "duration": 62,
    "start_time": "2022-12-20T23:32:31.599Z"
   },
   {
    "duration": 2,
    "start_time": "2022-12-20T23:32:32.081Z"
   },
   {
    "duration": 101,
    "start_time": "2022-12-20T23:32:32.405Z"
   },
   {
    "duration": 24,
    "start_time": "2022-12-20T23:32:32.886Z"
   },
   {
    "duration": 4,
    "start_time": "2022-12-20T23:32:33.213Z"
   },
   {
    "duration": 49,
    "start_time": "2022-12-20T23:32:33.371Z"
   },
   {
    "duration": 55,
    "start_time": "2022-12-20T23:32:33.878Z"
   },
   {
    "duration": 84,
    "start_time": "2022-12-20T23:32:34.040Z"
   },
   {
    "duration": 141,
    "start_time": "2022-12-20T23:32:34.715Z"
   },
   {
    "duration": 101,
    "start_time": "2022-12-20T23:32:35.904Z"
   },
   {
    "duration": 5,
    "start_time": "2022-12-20T23:32:36.066Z"
   },
   {
    "duration": 3,
    "start_time": "2022-12-20T23:32:36.392Z"
   },
   {
    "duration": 304,
    "start_time": "2022-12-20T23:32:36.563Z"
   },
   {
    "duration": 11,
    "start_time": "2022-12-20T23:32:37.012Z"
   },
   {
    "duration": 10,
    "start_time": "2022-12-20T23:32:37.358Z"
   },
   {
    "duration": 11,
    "start_time": "2022-12-20T23:32:37.528Z"
   },
   {
    "duration": 11,
    "start_time": "2022-12-20T23:32:37.704Z"
   },
   {
    "duration": 4,
    "start_time": "2022-12-20T23:32:38.241Z"
   },
   {
    "duration": 10,
    "start_time": "2022-12-20T23:32:38.435Z"
   },
   {
    "duration": 1430,
    "start_time": "2022-12-21T13:07:03.258Z"
   },
   {
    "duration": 486,
    "start_time": "2022-12-21T13:07:04.690Z"
   },
   {
    "duration": 17,
    "start_time": "2022-12-21T13:07:05.178Z"
   },
   {
    "duration": 6,
    "start_time": "2022-12-21T13:07:05.196Z"
   },
   {
    "duration": 14,
    "start_time": "2022-12-21T13:07:05.204Z"
   },
   {
    "duration": 14,
    "start_time": "2022-12-21T13:07:05.219Z"
   },
   {
    "duration": 15,
    "start_time": "2022-12-21T13:07:05.235Z"
   },
   {
    "duration": 5,
    "start_time": "2022-12-21T13:07:05.251Z"
   },
   {
    "duration": 31,
    "start_time": "2022-12-21T13:07:05.258Z"
   },
   {
    "duration": 12,
    "start_time": "2022-12-21T13:07:05.291Z"
   },
   {
    "duration": 37,
    "start_time": "2022-12-21T13:07:05.305Z"
   },
   {
    "duration": 9,
    "start_time": "2022-12-21T13:07:05.344Z"
   },
   {
    "duration": 58,
    "start_time": "2022-12-21T13:07:05.355Z"
   },
   {
    "duration": 3,
    "start_time": "2022-12-21T13:07:05.418Z"
   },
   {
    "duration": 45,
    "start_time": "2022-12-21T13:07:05.423Z"
   },
   {
    "duration": 113,
    "start_time": "2022-12-21T13:07:05.470Z"
   },
   {
    "duration": 0,
    "start_time": "2022-12-21T13:07:05.585Z"
   },
   {
    "duration": 0,
    "start_time": "2022-12-21T13:07:05.586Z"
   },
   {
    "duration": 0,
    "start_time": "2022-12-21T13:07:05.587Z"
   },
   {
    "duration": 0,
    "start_time": "2022-12-21T13:07:05.588Z"
   },
   {
    "duration": 0,
    "start_time": "2022-12-21T13:07:05.588Z"
   },
   {
    "duration": 0,
    "start_time": "2022-12-21T13:07:05.589Z"
   },
   {
    "duration": 0,
    "start_time": "2022-12-21T13:07:05.591Z"
   },
   {
    "duration": 0,
    "start_time": "2022-12-21T13:07:05.592Z"
   },
   {
    "duration": 0,
    "start_time": "2022-12-21T13:07:05.593Z"
   },
   {
    "duration": 0,
    "start_time": "2022-12-21T13:07:05.594Z"
   },
   {
    "duration": 0,
    "start_time": "2022-12-21T13:07:05.595Z"
   },
   {
    "duration": 0,
    "start_time": "2022-12-21T13:07:05.596Z"
   },
   {
    "duration": 0,
    "start_time": "2022-12-21T13:07:05.597Z"
   },
   {
    "duration": 0,
    "start_time": "2022-12-21T13:07:05.598Z"
   },
   {
    "duration": 0,
    "start_time": "2022-12-21T13:07:05.599Z"
   },
   {
    "duration": 0,
    "start_time": "2022-12-21T13:07:05.600Z"
   },
   {
    "duration": 1,
    "start_time": "2022-12-21T13:07:05.600Z"
   },
   {
    "duration": 0,
    "start_time": "2022-12-21T13:07:05.602Z"
   },
   {
    "duration": 0,
    "start_time": "2022-12-21T13:07:05.603Z"
   },
   {
    "duration": 0,
    "start_time": "2022-12-21T13:07:05.604Z"
   },
   {
    "duration": 0,
    "start_time": "2022-12-21T13:07:05.605Z"
   },
   {
    "duration": 0,
    "start_time": "2022-12-21T13:07:05.606Z"
   },
   {
    "duration": 0,
    "start_time": "2022-12-21T13:07:05.609Z"
   },
   {
    "duration": 0,
    "start_time": "2022-12-21T13:07:05.611Z"
   },
   {
    "duration": 0,
    "start_time": "2022-12-21T13:07:05.612Z"
   },
   {
    "duration": 0,
    "start_time": "2022-12-21T13:07:05.614Z"
   },
   {
    "duration": 0,
    "start_time": "2022-12-21T13:07:05.616Z"
   },
   {
    "duration": 0,
    "start_time": "2022-12-21T13:07:05.618Z"
   },
   {
    "duration": 0,
    "start_time": "2022-12-21T13:07:05.619Z"
   },
   {
    "duration": 1,
    "start_time": "2022-12-21T13:07:05.620Z"
   },
   {
    "duration": 0,
    "start_time": "2022-12-21T13:07:05.621Z"
   },
   {
    "duration": 0,
    "start_time": "2022-12-21T13:07:05.622Z"
   },
   {
    "duration": 1,
    "start_time": "2022-12-21T13:07:05.680Z"
   },
   {
    "duration": 0,
    "start_time": "2022-12-21T13:07:05.682Z"
   },
   {
    "duration": 0,
    "start_time": "2022-12-21T13:07:05.682Z"
   },
   {
    "duration": 0,
    "start_time": "2022-12-21T13:07:05.683Z"
   },
   {
    "duration": 0,
    "start_time": "2022-12-21T13:07:05.684Z"
   },
   {
    "duration": 37,
    "start_time": "2022-12-21T13:07:35.728Z"
   },
   {
    "duration": 431,
    "start_time": "2022-12-21T13:07:39.149Z"
   },
   {
    "duration": 87,
    "start_time": "2022-12-21T13:07:45.205Z"
   },
   {
    "duration": 73,
    "start_time": "2022-12-21T13:08:49.485Z"
   },
   {
    "duration": 54,
    "start_time": "2022-12-21T13:09:15.019Z"
   },
   {
    "duration": 24,
    "start_time": "2022-12-21T13:11:08.677Z"
   },
   {
    "duration": 21,
    "start_time": "2022-12-21T13:12:52.469Z"
   },
   {
    "duration": 7,
    "start_time": "2022-12-21T13:12:52.890Z"
   },
   {
    "duration": 43,
    "start_time": "2022-12-21T13:12:53.896Z"
   },
   {
    "duration": 35,
    "start_time": "2022-12-21T13:12:54.474Z"
   },
   {
    "duration": 13,
    "start_time": "2022-12-21T13:12:55.018Z"
   },
   {
    "duration": 70,
    "start_time": "2022-12-21T13:12:55.786Z"
   },
   {
    "duration": 140,
    "start_time": "2022-12-21T13:12:56.156Z"
   },
   {
    "duration": 4,
    "start_time": "2022-12-21T13:13:04.371Z"
   },
   {
    "duration": 80,
    "start_time": "2022-12-21T13:13:04.974Z"
   },
   {
    "duration": 55,
    "start_time": "2022-12-21T13:17:38.455Z"
   },
   {
    "duration": 39,
    "start_time": "2022-12-21T13:26:08.821Z"
   },
   {
    "duration": 24,
    "start_time": "2022-12-21T13:26:13.327Z"
   },
   {
    "duration": 1269,
    "start_time": "2022-12-21T13:26:47.840Z"
   },
   {
    "duration": 16,
    "start_time": "2022-12-21T13:26:52.085Z"
   },
   {
    "duration": 24,
    "start_time": "2022-12-21T13:27:31.161Z"
   },
   {
    "duration": 9,
    "start_time": "2022-12-21T13:31:38.364Z"
   },
   {
    "duration": 12,
    "start_time": "2022-12-21T13:32:03.709Z"
   },
   {
    "duration": 16,
    "start_time": "2022-12-21T13:32:04.152Z"
   },
   {
    "duration": 3,
    "start_time": "2022-12-21T13:32:07.118Z"
   },
   {
    "duration": 330,
    "start_time": "2022-12-21T13:32:07.660Z"
   },
   {
    "duration": 12,
    "start_time": "2022-12-21T13:32:08.062Z"
   },
   {
    "duration": 10,
    "start_time": "2022-12-21T13:32:09.099Z"
   },
   {
    "duration": 11,
    "start_time": "2022-12-21T13:32:09.647Z"
   },
   {
    "duration": 12,
    "start_time": "2022-12-21T13:32:11.471Z"
   },
   {
    "duration": 4,
    "start_time": "2022-12-21T13:32:13.362Z"
   },
   {
    "duration": 10,
    "start_time": "2022-12-21T13:32:13.830Z"
   },
   {
    "duration": 10,
    "start_time": "2022-12-21T13:32:18.448Z"
   },
   {
    "duration": 3,
    "start_time": "2022-12-21T13:32:18.638Z"
   },
   {
    "duration": 1314,
    "start_time": "2022-12-21T13:32:19.042Z"
   },
   {
    "duration": 20,
    "start_time": "2022-12-21T13:32:20.358Z"
   },
   {
    "duration": 13,
    "start_time": "2022-12-21T13:32:20.379Z"
   },
   {
    "duration": 4,
    "start_time": "2022-12-21T13:32:20.394Z"
   },
   {
    "duration": 19,
    "start_time": "2022-12-21T13:32:20.400Z"
   },
   {
    "duration": 13,
    "start_time": "2022-12-21T13:32:21.191Z"
   },
   {
    "duration": 27,
    "start_time": "2022-12-21T13:32:21.714Z"
   },
   {
    "duration": 5,
    "start_time": "2022-12-21T13:32:21.929Z"
   },
   {
    "duration": 5,
    "start_time": "2022-12-21T13:32:22.069Z"
   },
   {
    "duration": 59,
    "start_time": "2022-12-21T13:34:44.502Z"
   },
   {
    "duration": 28,
    "start_time": "2022-12-21T13:34:59.546Z"
   },
   {
    "duration": 11,
    "start_time": "2022-12-21T13:35:00.962Z"
   },
   {
    "duration": 27,
    "start_time": "2022-12-21T13:35:18.265Z"
   },
   {
    "duration": 13,
    "start_time": "2022-12-21T13:35:19.724Z"
   },
   {
    "duration": 26,
    "start_time": "2022-12-21T13:35:27.976Z"
   },
   {
    "duration": 15,
    "start_time": "2022-12-21T13:35:29.840Z"
   },
   {
    "duration": 29,
    "start_time": "2022-12-21T13:35:50.351Z"
   },
   {
    "duration": 11,
    "start_time": "2022-12-21T13:35:52.010Z"
   },
   {
    "duration": 25,
    "start_time": "2022-12-21T13:36:13.843Z"
   },
   {
    "duration": 11,
    "start_time": "2022-12-21T13:36:16.151Z"
   },
   {
    "duration": 14,
    "start_time": "2022-12-21T13:36:27.032Z"
   },
   {
    "duration": 11,
    "start_time": "2022-12-21T13:36:28.536Z"
   },
   {
    "duration": 79,
    "start_time": "2022-12-21T13:36:43.609Z"
   },
   {
    "duration": 23,
    "start_time": "2022-12-21T13:36:48.205Z"
   },
   {
    "duration": 28,
    "start_time": "2022-12-21T13:36:58.872Z"
   },
   {
    "duration": 12,
    "start_time": "2022-12-21T13:37:01.000Z"
   },
   {
    "duration": 3,
    "start_time": "2022-12-21T13:42:31.019Z"
   },
   {
    "duration": 46,
    "start_time": "2022-12-21T13:42:48.295Z"
   },
   {
    "duration": 22,
    "start_time": "2022-12-21T13:42:50.600Z"
   },
   {
    "duration": 3,
    "start_time": "2022-12-21T13:42:59.032Z"
   },
   {
    "duration": 340,
    "start_time": "2022-12-21T13:43:00.756Z"
   },
   {
    "duration": 13,
    "start_time": "2022-12-21T13:43:34.951Z"
   },
   {
    "duration": 1127,
    "start_time": "2022-12-21T13:43:55.905Z"
   },
   {
    "duration": 372,
    "start_time": "2022-12-21T13:43:57.034Z"
   },
   {
    "duration": 16,
    "start_time": "2022-12-21T13:43:57.408Z"
   },
   {
    "duration": 9,
    "start_time": "2022-12-21T13:43:57.426Z"
   },
   {
    "duration": 5,
    "start_time": "2022-12-21T13:43:57.437Z"
   },
   {
    "duration": 13,
    "start_time": "2022-12-21T13:43:57.444Z"
   },
   {
    "duration": 33,
    "start_time": "2022-12-21T13:43:57.459Z"
   },
   {
    "duration": 17,
    "start_time": "2022-12-21T13:43:57.494Z"
   },
   {
    "duration": 17,
    "start_time": "2022-12-21T13:43:57.513Z"
   },
   {
    "duration": 9,
    "start_time": "2022-12-21T13:43:57.532Z"
   },
   {
    "duration": 25,
    "start_time": "2022-12-21T13:43:57.542Z"
   },
   {
    "duration": 6,
    "start_time": "2022-12-21T13:43:57.569Z"
   },
   {
    "duration": 51,
    "start_time": "2022-12-21T13:43:57.577Z"
   },
   {
    "duration": 3,
    "start_time": "2022-12-21T13:43:57.630Z"
   },
   {
    "duration": 30,
    "start_time": "2022-12-21T13:43:57.634Z"
   },
   {
    "duration": 424,
    "start_time": "2022-12-21T13:43:57.665Z"
   },
   {
    "duration": 112,
    "start_time": "2022-12-21T13:43:58.092Z"
   },
   {
    "duration": 22,
    "start_time": "2022-12-21T13:43:58.206Z"
   },
   {
    "duration": 56,
    "start_time": "2022-12-21T13:43:58.230Z"
   },
   {
    "duration": 44,
    "start_time": "2022-12-21T13:43:58.288Z"
   },
   {
    "duration": 27,
    "start_time": "2022-12-21T13:43:58.334Z"
   },
   {
    "duration": 12,
    "start_time": "2022-12-21T13:43:58.363Z"
   },
   {
    "duration": 78,
    "start_time": "2022-12-21T13:43:58.378Z"
   },
   {
    "duration": 52,
    "start_time": "2022-12-21T13:43:58.457Z"
   },
   {
    "duration": 2,
    "start_time": "2022-12-21T13:43:58.511Z"
   },
   {
    "duration": 46,
    "start_time": "2022-12-21T13:43:58.515Z"
   },
   {
    "duration": 3,
    "start_time": "2022-12-21T13:43:58.562Z"
   },
   {
    "duration": 24,
    "start_time": "2022-12-21T13:43:58.567Z"
   },
   {
    "duration": 61,
    "start_time": "2022-12-21T13:43:58.593Z"
   },
   {
    "duration": 24,
    "start_time": "2022-12-21T13:43:58.656Z"
   },
   {
    "duration": 29685,
    "start_time": "2022-12-21T13:43:58.682Z"
   },
   {
    "duration": 1096,
    "start_time": "2022-12-21T13:44:28.369Z"
   },
   {
    "duration": 477,
    "start_time": "2022-12-21T13:44:29.467Z"
   },
   {
    "duration": 47,
    "start_time": "2022-12-21T13:44:29.946Z"
   },
   {
    "duration": 88,
    "start_time": "2022-12-21T13:44:29.995Z"
   },
   {
    "duration": 64,
    "start_time": "2022-12-21T13:44:30.084Z"
   },
   {
    "duration": 279,
    "start_time": "2022-12-21T13:44:30.150Z"
   },
   {
    "duration": 521,
    "start_time": "2022-12-21T13:44:30.431Z"
   },
   {
    "duration": 3,
    "start_time": "2022-12-21T13:44:30.954Z"
   },
   {
    "duration": 478,
    "start_time": "2022-12-21T13:44:30.959Z"
   },
   {
    "duration": 0,
    "start_time": "2022-12-21T13:44:31.440Z"
   },
   {
    "duration": 0,
    "start_time": "2022-12-21T13:44:31.441Z"
   },
   {
    "duration": 0,
    "start_time": "2022-12-21T13:44:31.442Z"
   },
   {
    "duration": 0,
    "start_time": "2022-12-21T13:44:31.443Z"
   },
   {
    "duration": 0,
    "start_time": "2022-12-21T13:44:31.445Z"
   },
   {
    "duration": 0,
    "start_time": "2022-12-21T13:44:31.446Z"
   },
   {
    "duration": 0,
    "start_time": "2022-12-21T13:44:31.447Z"
   },
   {
    "duration": 0,
    "start_time": "2022-12-21T13:44:31.448Z"
   },
   {
    "duration": 0,
    "start_time": "2022-12-21T13:44:31.449Z"
   },
   {
    "duration": 0,
    "start_time": "2022-12-21T13:44:31.450Z"
   },
   {
    "duration": 0,
    "start_time": "2022-12-21T13:44:31.451Z"
   },
   {
    "duration": 0,
    "start_time": "2022-12-21T13:44:31.452Z"
   },
   {
    "duration": 0,
    "start_time": "2022-12-21T13:44:31.453Z"
   },
   {
    "duration": 0,
    "start_time": "2022-12-21T13:44:31.454Z"
   },
   {
    "duration": 0,
    "start_time": "2022-12-21T13:44:31.455Z"
   },
   {
    "duration": 0,
    "start_time": "2022-12-21T13:44:31.456Z"
   },
   {
    "duration": 0,
    "start_time": "2022-12-21T13:44:31.457Z"
   },
   {
    "duration": 12,
    "start_time": "2022-12-21T13:45:50.735Z"
   },
   {
    "duration": 30643,
    "start_time": "2022-12-21T13:46:16.251Z"
   },
   {
    "duration": 1159,
    "start_time": "2022-12-21T13:46:50.856Z"
   },
   {
    "duration": 25,
    "start_time": "2022-12-21T13:47:50.175Z"
   },
   {
    "duration": 11,
    "start_time": "2022-12-21T13:47:52.113Z"
   },
   {
    "duration": 17,
    "start_time": "2022-12-21T13:47:55.727Z"
   },
   {
    "duration": 24775,
    "start_time": "2022-12-21T13:47:57.557Z"
   },
   {
    "duration": 1182,
    "start_time": "2022-12-21T13:48:25.036Z"
   },
   {
    "duration": 321,
    "start_time": "2022-12-21T13:48:26.220Z"
   },
   {
    "duration": 40,
    "start_time": "2022-12-21T13:48:28.991Z"
   },
   {
    "duration": 78,
    "start_time": "2022-12-21T13:48:29.647Z"
   },
   {
    "duration": 68,
    "start_time": "2022-12-21T13:48:30.649Z"
   },
   {
    "duration": 249,
    "start_time": "2022-12-21T13:48:31.953Z"
   },
   {
    "duration": 807,
    "start_time": "2022-12-21T13:48:32.204Z"
   },
   {
    "duration": 3,
    "start_time": "2022-12-21T13:48:33.013Z"
   },
   {
    "duration": 15,
    "start_time": "2022-12-21T13:48:33.017Z"
   },
   {
    "duration": 22,
    "start_time": "2022-12-21T13:48:37.291Z"
   },
   {
    "duration": 3,
    "start_time": "2022-12-21T13:48:38.062Z"
   },
   {
    "duration": 29,
    "start_time": "2022-12-21T13:48:38.785Z"
   },
   {
    "duration": 13,
    "start_time": "2022-12-21T13:48:40.493Z"
   },
   {
    "duration": 4,
    "start_time": "2022-12-21T13:48:42.229Z"
   },
   {
    "duration": 413,
    "start_time": "2022-12-21T13:48:42.709Z"
   },
   {
    "duration": 9,
    "start_time": "2022-12-21T13:48:47.150Z"
   },
   {
    "duration": 3,
    "start_time": "2022-12-21T13:48:47.317Z"
   },
   {
    "duration": 1611,
    "start_time": "2022-12-21T13:48:47.465Z"
   },
   {
    "duration": 25,
    "start_time": "2022-12-21T13:48:49.079Z"
   },
   {
    "duration": 59,
    "start_time": "2022-12-21T13:48:49.107Z"
   },
   {
    "duration": 33,
    "start_time": "2022-12-21T13:48:49.168Z"
   },
   {
    "duration": 33,
    "start_time": "2022-12-21T13:48:49.203Z"
   },
   {
    "duration": 27,
    "start_time": "2022-12-21T13:48:49.239Z"
   },
   {
    "duration": 27,
    "start_time": "2022-12-21T13:48:49.314Z"
   },
   {
    "duration": 5,
    "start_time": "2022-12-21T13:48:49.635Z"
   },
   {
    "duration": 5,
    "start_time": "2022-12-21T13:48:49.800Z"
   },
   {
    "duration": 3,
    "start_time": "2022-12-21T13:50:19.994Z"
   },
   {
    "duration": 1109,
    "start_time": "2022-12-21T13:50:46.809Z"
   },
   {
    "duration": 320,
    "start_time": "2022-12-21T13:50:47.920Z"
   },
   {
    "duration": 16,
    "start_time": "2022-12-21T13:50:48.242Z"
   },
   {
    "duration": 37,
    "start_time": "2022-12-21T13:50:48.259Z"
   },
   {
    "duration": 60,
    "start_time": "2022-12-21T13:50:48.298Z"
   },
   {
    "duration": 38,
    "start_time": "2022-12-21T13:50:48.360Z"
   },
   {
    "duration": 66,
    "start_time": "2022-12-21T13:50:48.400Z"
   },
   {
    "duration": 58,
    "start_time": "2022-12-21T13:50:48.468Z"
   },
   {
    "duration": 57,
    "start_time": "2022-12-21T13:50:48.527Z"
   },
   {
    "duration": 30,
    "start_time": "2022-12-21T13:50:48.586Z"
   },
   {
    "duration": 49,
    "start_time": "2022-12-21T13:50:48.618Z"
   },
   {
    "duration": 46,
    "start_time": "2022-12-21T13:50:48.669Z"
   },
   {
    "duration": 57,
    "start_time": "2022-12-21T13:50:48.717Z"
   },
   {
    "duration": 19,
    "start_time": "2022-12-21T13:50:48.777Z"
   },
   {
    "duration": 46,
    "start_time": "2022-12-21T13:50:48.798Z"
   },
   {
    "duration": 406,
    "start_time": "2022-12-21T13:50:48.846Z"
   },
   {
    "duration": 68,
    "start_time": "2022-12-21T13:50:49.254Z"
   },
   {
    "duration": 66,
    "start_time": "2022-12-21T13:50:49.324Z"
   },
   {
    "duration": 44,
    "start_time": "2022-12-21T13:50:49.392Z"
   },
   {
    "duration": 46,
    "start_time": "2022-12-21T13:50:49.437Z"
   },
   {
    "duration": 48,
    "start_time": "2022-12-21T13:50:49.485Z"
   },
   {
    "duration": 90,
    "start_time": "2022-12-21T13:50:49.534Z"
   },
   {
    "duration": 40,
    "start_time": "2022-12-21T13:50:49.626Z"
   },
   {
    "duration": 3,
    "start_time": "2022-12-21T13:50:49.677Z"
   },
   {
    "duration": 8,
    "start_time": "2022-12-21T13:50:49.681Z"
   },
   {
    "duration": 41,
    "start_time": "2022-12-21T13:50:49.691Z"
   },
   {
    "duration": 62,
    "start_time": "2022-12-21T13:50:49.733Z"
   },
   {
    "duration": 16,
    "start_time": "2022-12-21T13:50:49.797Z"
   },
   {
    "duration": 11,
    "start_time": "2022-12-21T13:50:49.814Z"
   },
   {
    "duration": 23125,
    "start_time": "2022-12-21T13:50:49.827Z"
   },
   {
    "duration": 1169,
    "start_time": "2022-12-21T13:51:12.954Z"
   },
   {
    "duration": 443,
    "start_time": "2022-12-21T13:51:14.125Z"
   },
   {
    "duration": 44,
    "start_time": "2022-12-21T13:51:14.569Z"
   },
   {
    "duration": 89,
    "start_time": "2022-12-21T13:51:14.614Z"
   },
   {
    "duration": 63,
    "start_time": "2022-12-21T13:51:14.705Z"
   },
   {
    "duration": 262,
    "start_time": "2022-12-21T13:51:14.777Z"
   },
   {
    "duration": 767,
    "start_time": "2022-12-21T13:51:15.041Z"
   },
   {
    "duration": 4,
    "start_time": "2022-12-21T13:51:15.809Z"
   },
   {
    "duration": 25,
    "start_time": "2022-12-21T13:51:15.814Z"
   },
   {
    "duration": 26,
    "start_time": "2022-12-21T13:51:15.840Z"
   },
   {
    "duration": 3,
    "start_time": "2022-12-21T13:51:15.870Z"
   },
   {
    "duration": 33,
    "start_time": "2022-12-21T13:51:15.874Z"
   },
   {
    "duration": 143,
    "start_time": "2022-12-21T13:51:15.909Z"
   },
   {
    "duration": 0,
    "start_time": "2022-12-21T13:51:16.053Z"
   },
   {
    "duration": 0,
    "start_time": "2022-12-21T13:51:16.055Z"
   },
   {
    "duration": 0,
    "start_time": "2022-12-21T13:51:16.056Z"
   },
   {
    "duration": 0,
    "start_time": "2022-12-21T13:51:16.057Z"
   },
   {
    "duration": 0,
    "start_time": "2022-12-21T13:51:16.059Z"
   },
   {
    "duration": 0,
    "start_time": "2022-12-21T13:51:16.060Z"
   },
   {
    "duration": 0,
    "start_time": "2022-12-21T13:51:16.060Z"
   },
   {
    "duration": 0,
    "start_time": "2022-12-21T13:51:16.062Z"
   },
   {
    "duration": 0,
    "start_time": "2022-12-21T13:51:16.078Z"
   },
   {
    "duration": 1,
    "start_time": "2022-12-21T13:51:16.079Z"
   },
   {
    "duration": 0,
    "start_time": "2022-12-21T13:51:16.081Z"
   },
   {
    "duration": 0,
    "start_time": "2022-12-21T13:51:16.082Z"
   },
   {
    "duration": 0,
    "start_time": "2022-12-21T13:51:16.083Z"
   },
   {
    "duration": 66,
    "start_time": "2022-12-21T13:53:09.458Z"
   },
   {
    "duration": 1081,
    "start_time": "2022-12-21T13:53:17.634Z"
   },
   {
    "duration": 433,
    "start_time": "2022-12-21T13:53:18.717Z"
   },
   {
    "duration": 27,
    "start_time": "2022-12-21T13:53:19.152Z"
   },
   {
    "duration": 5,
    "start_time": "2022-12-21T13:53:19.180Z"
   },
   {
    "duration": 42,
    "start_time": "2022-12-21T13:53:19.188Z"
   },
   {
    "duration": 21,
    "start_time": "2022-12-21T13:53:19.231Z"
   },
   {
    "duration": 43,
    "start_time": "2022-12-21T13:53:19.254Z"
   },
   {
    "duration": 20,
    "start_time": "2022-12-21T13:53:19.298Z"
   },
   {
    "duration": 25,
    "start_time": "2022-12-21T13:53:19.319Z"
   },
   {
    "duration": 19,
    "start_time": "2022-12-21T13:53:19.346Z"
   },
   {
    "duration": 32,
    "start_time": "2022-12-21T13:53:19.366Z"
   },
   {
    "duration": 28,
    "start_time": "2022-12-21T13:53:19.400Z"
   },
   {
    "duration": 61,
    "start_time": "2022-12-21T13:53:19.430Z"
   },
   {
    "duration": 3,
    "start_time": "2022-12-21T13:53:19.495Z"
   },
   {
    "duration": 47,
    "start_time": "2022-12-21T13:53:19.500Z"
   },
   {
    "duration": 407,
    "start_time": "2022-12-21T13:53:19.549Z"
   },
   {
    "duration": 58,
    "start_time": "2022-12-21T13:53:19.958Z"
   },
   {
    "duration": 64,
    "start_time": "2022-12-21T13:53:20.018Z"
   },
   {
    "duration": 6,
    "start_time": "2022-12-21T13:53:20.083Z"
   },
   {
    "duration": 61,
    "start_time": "2022-12-21T13:53:20.090Z"
   },
   {
    "duration": 34,
    "start_time": "2022-12-21T13:53:20.153Z"
   },
   {
    "duration": 84,
    "start_time": "2022-12-21T13:53:20.189Z"
   },
   {
    "duration": 39,
    "start_time": "2022-12-21T13:53:20.275Z"
   },
   {
    "duration": 3,
    "start_time": "2022-12-21T13:53:20.316Z"
   },
   {
    "duration": 38,
    "start_time": "2022-12-21T13:53:20.320Z"
   },
   {
    "duration": 74,
    "start_time": "2022-12-21T13:53:20.360Z"
   },
   {
    "duration": 50,
    "start_time": "2022-12-21T13:53:20.436Z"
   },
   {
    "duration": 24,
    "start_time": "2022-12-21T13:53:20.488Z"
   },
   {
    "duration": 23,
    "start_time": "2022-12-21T13:53:20.513Z"
   },
   {
    "duration": 22756,
    "start_time": "2022-12-21T13:53:20.537Z"
   },
   {
    "duration": 1379,
    "start_time": "2022-12-21T13:53:43.294Z"
   },
   {
    "duration": 495,
    "start_time": "2022-12-21T13:53:44.674Z"
   },
   {
    "duration": 44,
    "start_time": "2022-12-21T13:53:45.172Z"
   },
   {
    "duration": 104,
    "start_time": "2022-12-21T13:53:45.218Z"
   },
   {
    "duration": 87,
    "start_time": "2022-12-21T13:53:45.324Z"
   },
   {
    "duration": 272,
    "start_time": "2022-12-21T13:53:45.413Z"
   },
   {
    "duration": 859,
    "start_time": "2022-12-21T13:53:45.687Z"
   },
   {
    "duration": 3,
    "start_time": "2022-12-21T13:53:46.548Z"
   },
   {
    "duration": 26,
    "start_time": "2022-12-21T13:53:46.552Z"
   },
   {
    "duration": 25,
    "start_time": "2022-12-21T13:53:46.580Z"
   },
   {
    "duration": 3,
    "start_time": "2022-12-21T13:53:46.609Z"
   },
   {
    "duration": 33,
    "start_time": "2022-12-21T13:53:46.614Z"
   },
   {
    "duration": 89,
    "start_time": "2022-12-21T13:53:46.649Z"
   },
   {
    "duration": 6,
    "start_time": "2022-12-21T13:53:46.740Z"
   },
   {
    "duration": 277,
    "start_time": "2022-12-21T13:53:46.747Z"
   },
   {
    "duration": 9,
    "start_time": "2022-12-21T13:53:47.026Z"
   },
   {
    "duration": 5,
    "start_time": "2022-12-21T13:53:47.037Z"
   },
   {
    "duration": 1231,
    "start_time": "2022-12-21T13:53:47.044Z"
   },
   {
    "duration": 17,
    "start_time": "2022-12-21T13:53:48.278Z"
   },
   {
    "duration": 17,
    "start_time": "2022-12-21T13:53:48.297Z"
   },
   {
    "duration": 4,
    "start_time": "2022-12-21T13:53:48.316Z"
   },
   {
    "duration": 13,
    "start_time": "2022-12-21T13:53:48.321Z"
   },
   {
    "duration": 31,
    "start_time": "2022-12-21T13:53:48.336Z"
   },
   {
    "duration": 26,
    "start_time": "2022-12-21T13:53:48.369Z"
   },
   {
    "duration": 5,
    "start_time": "2022-12-21T13:53:48.397Z"
   },
   {
    "duration": 7,
    "start_time": "2022-12-21T13:53:48.404Z"
   },
   {
    "duration": 22,
    "start_time": "2022-12-21T15:17:27.492Z"
   },
   {
    "duration": 298,
    "start_time": "2022-12-21T15:17:27.516Z"
   },
   {
    "duration": 13,
    "start_time": "2022-12-21T15:17:27.816Z"
   },
   {
    "duration": 52,
    "start_time": "2022-12-21T15:17:27.830Z"
   },
   {
    "duration": 29,
    "start_time": "2022-12-21T15:17:27.883Z"
   },
   {
    "duration": 47,
    "start_time": "2022-12-21T15:17:27.913Z"
   },
   {
    "duration": 26,
    "start_time": "2022-12-21T15:17:27.962Z"
   },
   {
    "duration": 14,
    "start_time": "2022-12-21T15:17:27.990Z"
   },
   {
    "duration": 33,
    "start_time": "2022-12-21T15:17:28.006Z"
   },
   {
    "duration": 17,
    "start_time": "2022-12-21T15:17:28.040Z"
   },
   {
    "duration": 47,
    "start_time": "2022-12-21T15:17:28.059Z"
   },
   {
    "duration": 28,
    "start_time": "2022-12-21T15:17:28.107Z"
   },
   {
    "duration": 51,
    "start_time": "2022-12-21T15:17:28.137Z"
   },
   {
    "duration": 7,
    "start_time": "2022-12-21T15:17:28.190Z"
   },
   {
    "duration": 35,
    "start_time": "2022-12-21T15:17:28.199Z"
   },
   {
    "duration": 83,
    "start_time": "2022-12-21T15:17:28.236Z"
   },
   {
    "duration": 51,
    "start_time": "2022-12-21T15:17:28.322Z"
   },
   {
    "duration": 17,
    "start_time": "2022-12-21T15:17:28.374Z"
   },
   {
    "duration": 30,
    "start_time": "2022-12-21T15:17:28.393Z"
   },
   {
    "duration": 55,
    "start_time": "2022-12-21T15:17:28.425Z"
   },
   {
    "duration": 26,
    "start_time": "2022-12-21T15:17:28.482Z"
   },
   {
    "duration": 69,
    "start_time": "2022-12-21T15:17:28.510Z"
   },
   {
    "duration": 50,
    "start_time": "2022-12-21T15:17:28.581Z"
   },
   {
    "duration": 8,
    "start_time": "2022-12-21T15:17:28.633Z"
   },
   {
    "duration": 15,
    "start_time": "2022-12-21T15:17:28.642Z"
   },
   {
    "duration": 62,
    "start_time": "2022-12-21T15:17:28.658Z"
   },
   {
    "duration": 66,
    "start_time": "2022-12-21T15:17:28.722Z"
   },
   {
    "duration": 31,
    "start_time": "2022-12-21T15:17:28.790Z"
   },
   {
    "duration": 20,
    "start_time": "2022-12-21T15:17:28.822Z"
   },
   {
    "duration": 23991,
    "start_time": "2022-12-21T15:17:28.844Z"
   },
   {
    "duration": 1263,
    "start_time": "2022-12-21T15:17:52.837Z"
   },
   {
    "duration": 348,
    "start_time": "2022-12-21T15:17:54.101Z"
   },
   {
    "duration": 47,
    "start_time": "2022-12-21T15:17:54.451Z"
   },
   {
    "duration": 92,
    "start_time": "2022-12-21T15:17:54.500Z"
   },
   {
    "duration": 206,
    "start_time": "2022-12-21T15:17:54.593Z"
   },
   {
    "duration": 262,
    "start_time": "2022-12-21T15:17:54.801Z"
   },
   {
    "duration": 888,
    "start_time": "2022-12-21T15:17:55.065Z"
   },
   {
    "duration": 3,
    "start_time": "2022-12-21T15:17:55.955Z"
   },
   {
    "duration": 23,
    "start_time": "2022-12-21T15:17:55.960Z"
   },
   {
    "duration": 34,
    "start_time": "2022-12-21T15:17:55.985Z"
   },
   {
    "duration": 34,
    "start_time": "2022-12-21T15:17:56.021Z"
   },
   {
    "duration": 53,
    "start_time": "2022-12-21T15:17:56.057Z"
   },
   {
    "duration": 86,
    "start_time": "2022-12-21T15:17:56.112Z"
   },
   {
    "duration": 4,
    "start_time": "2022-12-21T15:17:56.200Z"
   },
   {
    "duration": 265,
    "start_time": "2022-12-21T15:17:56.205Z"
   },
   {
    "duration": 9,
    "start_time": "2022-12-21T15:17:56.471Z"
   },
   {
    "duration": 14,
    "start_time": "2022-12-21T15:17:56.482Z"
   },
   {
    "duration": 1580,
    "start_time": "2022-12-21T15:17:56.497Z"
   },
   {
    "duration": 17,
    "start_time": "2022-12-21T15:17:58.078Z"
   },
   {
    "duration": 29,
    "start_time": "2022-12-21T15:17:58.096Z"
   },
   {
    "duration": 5,
    "start_time": "2022-12-21T15:17:58.127Z"
   },
   {
    "duration": 30,
    "start_time": "2022-12-21T15:17:58.134Z"
   },
   {
    "duration": 18,
    "start_time": "2022-12-21T15:17:58.165Z"
   },
   {
    "duration": 30,
    "start_time": "2022-12-21T15:17:58.185Z"
   },
   {
    "duration": 5,
    "start_time": "2022-12-21T15:17:58.216Z"
   },
   {
    "duration": 56,
    "start_time": "2022-12-21T15:17:58.223Z"
   },
   {
    "duration": 1176,
    "start_time": "2022-12-21T15:18:39.235Z"
   },
   {
    "duration": 244,
    "start_time": "2022-12-21T15:18:40.413Z"
   },
   {
    "duration": 16,
    "start_time": "2022-12-21T15:18:40.659Z"
   },
   {
    "duration": 41,
    "start_time": "2022-12-21T15:18:40.676Z"
   },
   {
    "duration": 29,
    "start_time": "2022-12-21T15:18:40.719Z"
   },
   {
    "duration": 26,
    "start_time": "2022-12-21T15:18:40.750Z"
   },
   {
    "duration": 28,
    "start_time": "2022-12-21T15:18:40.778Z"
   },
   {
    "duration": 9,
    "start_time": "2022-12-21T15:18:40.807Z"
   },
   {
    "duration": 44,
    "start_time": "2022-12-21T15:18:40.817Z"
   },
   {
    "duration": 27,
    "start_time": "2022-12-21T15:18:40.863Z"
   },
   {
    "duration": 35,
    "start_time": "2022-12-21T15:18:40.892Z"
   },
   {
    "duration": 34,
    "start_time": "2022-12-21T15:18:40.929Z"
   },
   {
    "duration": 71,
    "start_time": "2022-12-21T15:18:40.964Z"
   },
   {
    "duration": 8,
    "start_time": "2022-12-21T15:18:41.040Z"
   },
   {
    "duration": 48,
    "start_time": "2022-12-21T15:18:41.050Z"
   },
   {
    "duration": 1050,
    "start_time": "2022-12-21T15:18:41.100Z"
   },
   {
    "duration": 113,
    "start_time": "2022-12-21T15:18:42.152Z"
   },
   {
    "duration": 75,
    "start_time": "2022-12-21T15:18:42.267Z"
   },
   {
    "duration": 14,
    "start_time": "2022-12-21T15:18:42.344Z"
   },
   {
    "duration": 96,
    "start_time": "2022-12-21T15:18:42.359Z"
   },
   {
    "duration": 73,
    "start_time": "2022-12-21T15:18:42.456Z"
   },
   {
    "duration": 135,
    "start_time": "2022-12-21T15:18:42.531Z"
   },
   {
    "duration": 93,
    "start_time": "2022-12-21T15:18:42.668Z"
   },
   {
    "duration": 3,
    "start_time": "2022-12-21T15:18:42.762Z"
   },
   {
    "duration": 55,
    "start_time": "2022-12-21T15:18:42.766Z"
   },
   {
    "duration": 121,
    "start_time": "2022-12-21T15:18:42.824Z"
   },
   {
    "duration": 182,
    "start_time": "2022-12-21T15:18:42.947Z"
   },
   {
    "duration": 28,
    "start_time": "2022-12-21T15:18:43.131Z"
   },
   {
    "duration": 68,
    "start_time": "2022-12-21T15:18:43.161Z"
   },
   {
    "duration": 23769,
    "start_time": "2022-12-21T15:18:43.232Z"
   },
   {
    "duration": 1050,
    "start_time": "2022-12-21T15:19:07.003Z"
   },
   {
    "duration": 470,
    "start_time": "2022-12-21T15:19:08.054Z"
   },
   {
    "duration": 51,
    "start_time": "2022-12-21T15:19:08.525Z"
   },
   {
    "duration": 95,
    "start_time": "2022-12-21T15:19:08.578Z"
   },
   {
    "duration": 80,
    "start_time": "2022-12-21T15:19:08.675Z"
   },
   {
    "duration": 307,
    "start_time": "2022-12-21T15:19:08.757Z"
   },
   {
    "duration": 783,
    "start_time": "2022-12-21T15:19:09.066Z"
   },
   {
    "duration": 4,
    "start_time": "2022-12-21T15:19:09.851Z"
   },
   {
    "duration": 27,
    "start_time": "2022-12-21T15:19:09.857Z"
   },
   {
    "duration": 56,
    "start_time": "2022-12-21T15:19:09.886Z"
   },
   {
    "duration": 3,
    "start_time": "2022-12-21T15:19:09.946Z"
   },
   {
    "duration": 49,
    "start_time": "2022-12-21T15:19:09.951Z"
   },
   {
    "duration": 72,
    "start_time": "2022-12-21T15:19:10.002Z"
   },
   {
    "duration": 3,
    "start_time": "2022-12-21T15:19:10.076Z"
   },
   {
    "duration": 265,
    "start_time": "2022-12-21T15:19:10.081Z"
   },
   {
    "duration": 9,
    "start_time": "2022-12-21T15:19:10.348Z"
   },
   {
    "duration": 11,
    "start_time": "2022-12-21T15:19:10.359Z"
   },
   {
    "duration": 1728,
    "start_time": "2022-12-21T15:19:10.372Z"
   },
   {
    "duration": 30,
    "start_time": "2022-12-21T15:19:12.101Z"
   },
   {
    "duration": 21,
    "start_time": "2022-12-21T15:19:12.133Z"
   },
   {
    "duration": 23,
    "start_time": "2022-12-21T15:19:12.156Z"
   },
   {
    "duration": 24,
    "start_time": "2022-12-21T15:19:12.181Z"
   },
   {
    "duration": 62,
    "start_time": "2022-12-21T15:19:12.207Z"
   },
   {
    "duration": 30,
    "start_time": "2022-12-21T15:19:12.270Z"
   },
   {
    "duration": 5,
    "start_time": "2022-12-21T15:19:12.301Z"
   },
   {
    "duration": 40,
    "start_time": "2022-12-21T15:19:12.308Z"
   },
   {
    "duration": 15,
    "start_time": "2022-12-21T15:25:21.093Z"
   },
   {
    "duration": 20,
    "start_time": "2022-12-21T15:25:44.278Z"
   },
   {
    "duration": 4,
    "start_time": "2022-12-21T15:26:33.447Z"
   },
   {
    "duration": 1749,
    "start_time": "2022-12-21T15:51:46.653Z"
   },
   {
    "duration": 278,
    "start_time": "2022-12-21T15:51:48.405Z"
   },
   {
    "duration": 29,
    "start_time": "2022-12-21T15:51:48.685Z"
   },
   {
    "duration": 5,
    "start_time": "2022-12-21T15:51:48.716Z"
   },
   {
    "duration": 13,
    "start_time": "2022-12-21T15:51:48.724Z"
   },
   {
    "duration": 17,
    "start_time": "2022-12-21T15:51:48.740Z"
   },
   {
    "duration": 38,
    "start_time": "2022-12-21T15:51:48.759Z"
   },
   {
    "duration": 7,
    "start_time": "2022-12-21T15:51:48.800Z"
   },
   {
    "duration": 26,
    "start_time": "2022-12-21T15:51:48.809Z"
   },
   {
    "duration": 14,
    "start_time": "2022-12-21T15:51:48.837Z"
   },
   {
    "duration": 52,
    "start_time": "2022-12-21T15:51:48.853Z"
   },
   {
    "duration": 16,
    "start_time": "2022-12-21T15:51:48.911Z"
   },
   {
    "duration": 48,
    "start_time": "2022-12-21T15:51:48.929Z"
   },
   {
    "duration": 7,
    "start_time": "2022-12-21T15:51:48.982Z"
   },
   {
    "duration": 47,
    "start_time": "2022-12-21T15:51:48.991Z"
   },
   {
    "duration": 692,
    "start_time": "2022-12-21T15:51:49.040Z"
   },
   {
    "duration": 179,
    "start_time": "2022-12-21T15:51:49.734Z"
   },
   {
    "duration": 28,
    "start_time": "2022-12-21T15:51:49.915Z"
   },
   {
    "duration": 25,
    "start_time": "2022-12-21T15:51:49.946Z"
   },
   {
    "duration": 61,
    "start_time": "2022-12-21T15:51:49.974Z"
   },
   {
    "duration": 45,
    "start_time": "2022-12-21T15:51:50.038Z"
   },
   {
    "duration": 118,
    "start_time": "2022-12-21T15:51:50.086Z"
   },
   {
    "duration": 129,
    "start_time": "2022-12-21T15:51:50.206Z"
   },
   {
    "duration": 5,
    "start_time": "2022-12-21T15:51:50.337Z"
   },
   {
    "duration": 36,
    "start_time": "2022-12-21T15:51:50.345Z"
   },
   {
    "duration": 81,
    "start_time": "2022-12-21T15:51:50.384Z"
   },
   {
    "duration": 106,
    "start_time": "2022-12-21T15:51:50.467Z"
   },
   {
    "duration": 30,
    "start_time": "2022-12-21T15:51:50.579Z"
   },
   {
    "duration": 27,
    "start_time": "2022-12-21T15:51:50.611Z"
   },
   {
    "duration": 32750,
    "start_time": "2022-12-21T15:51:50.640Z"
   },
   {
    "duration": 1483,
    "start_time": "2022-12-21T15:52:23.392Z"
   },
   {
    "duration": 608,
    "start_time": "2022-12-21T15:52:24.878Z"
   },
   {
    "duration": 59,
    "start_time": "2022-12-21T15:52:25.488Z"
   },
   {
    "duration": 161,
    "start_time": "2022-12-21T15:52:25.549Z"
   },
   {
    "duration": 137,
    "start_time": "2022-12-21T15:52:25.712Z"
   },
   {
    "duration": 421,
    "start_time": "2022-12-21T15:52:25.851Z"
   },
   {
    "duration": 1099,
    "start_time": "2022-12-21T15:52:26.274Z"
   },
   {
    "duration": 3,
    "start_time": "2022-12-21T15:52:27.376Z"
   },
   {
    "duration": 25,
    "start_time": "2022-12-21T15:52:27.381Z"
   },
   {
    "duration": 28,
    "start_time": "2022-12-21T15:52:27.408Z"
   },
   {
    "duration": 3,
    "start_time": "2022-12-21T15:52:27.442Z"
   },
   {
    "duration": 64,
    "start_time": "2022-12-21T15:52:27.448Z"
   },
   {
    "duration": 117,
    "start_time": "2022-12-21T15:52:27.515Z"
   },
   {
    "duration": 7,
    "start_time": "2022-12-21T15:52:27.634Z"
   },
   {
    "duration": 386,
    "start_time": "2022-12-21T15:52:27.643Z"
   },
   {
    "duration": 13,
    "start_time": "2022-12-21T15:52:28.031Z"
   },
   {
    "duration": 11,
    "start_time": "2022-12-21T15:52:28.046Z"
   },
   {
    "duration": 2122,
    "start_time": "2022-12-21T15:52:28.059Z"
   },
   {
    "duration": 23,
    "start_time": "2022-12-21T15:52:30.183Z"
   },
   {
    "duration": 56,
    "start_time": "2022-12-21T15:52:30.208Z"
   },
   {
    "duration": 59,
    "start_time": "2022-12-21T15:52:30.266Z"
   },
   {
    "duration": 64,
    "start_time": "2022-12-21T15:52:30.329Z"
   },
   {
    "duration": 70,
    "start_time": "2022-12-21T15:52:30.395Z"
   },
   {
    "duration": 64,
    "start_time": "2022-12-21T15:52:30.468Z"
   },
   {
    "duration": 10,
    "start_time": "2022-12-21T15:52:30.534Z"
   },
   {
    "duration": 41,
    "start_time": "2022-12-21T15:52:30.546Z"
   },
   {
    "duration": 36,
    "start_time": "2022-12-21T16:30:22.646Z"
   },
   {
    "duration": 6,
    "start_time": "2022-12-21T16:30:36.013Z"
   },
   {
    "duration": 50,
    "start_time": "2022-12-21T16:37:30.849Z"
   },
   {
    "duration": 259,
    "start_time": "2022-12-21T16:37:35.900Z"
   },
   {
    "duration": 8,
    "start_time": "2022-12-21T16:37:38.312Z"
   },
   {
    "duration": 25,
    "start_time": "2022-12-21T16:39:28.978Z"
   },
   {
    "duration": 20,
    "start_time": "2022-12-21T16:39:33.613Z"
   },
   {
    "duration": 36,
    "start_time": "2022-12-21T16:41:04.890Z"
   },
   {
    "duration": 106,
    "start_time": "2022-12-21T16:41:22.459Z"
   },
   {
    "duration": 146,
    "start_time": "2022-12-21T16:41:38.299Z"
   },
   {
    "duration": 113,
    "start_time": "2022-12-21T16:41:49.538Z"
   },
   {
    "duration": 40,
    "start_time": "2022-12-21T16:41:58.491Z"
   },
   {
    "duration": 38,
    "start_time": "2022-12-21T16:43:05.712Z"
   },
   {
    "duration": 73,
    "start_time": "2022-12-21T16:43:07.938Z"
   },
   {
    "duration": 88,
    "start_time": "2022-12-21T16:43:09.923Z"
   },
   {
    "duration": 1246,
    "start_time": "2022-12-21T16:43:32.505Z"
   },
   {
    "duration": 372,
    "start_time": "2022-12-21T16:43:33.753Z"
   },
   {
    "duration": 20,
    "start_time": "2022-12-21T16:43:34.128Z"
   },
   {
    "duration": 7,
    "start_time": "2022-12-21T16:43:34.150Z"
   },
   {
    "duration": 5,
    "start_time": "2022-12-21T16:43:34.160Z"
   },
   {
    "duration": 36,
    "start_time": "2022-12-21T16:43:34.167Z"
   },
   {
    "duration": 16,
    "start_time": "2022-12-21T16:43:34.206Z"
   },
   {
    "duration": 6,
    "start_time": "2022-12-21T16:43:34.224Z"
   },
   {
    "duration": 30,
    "start_time": "2022-12-21T16:43:34.232Z"
   },
   {
    "duration": 35,
    "start_time": "2022-12-21T16:43:34.264Z"
   },
   {
    "duration": 24,
    "start_time": "2022-12-21T16:43:34.301Z"
   },
   {
    "duration": 4,
    "start_time": "2022-12-21T16:43:34.327Z"
   },
   {
    "duration": 64,
    "start_time": "2022-12-21T16:43:34.333Z"
   },
   {
    "duration": 3,
    "start_time": "2022-12-21T16:43:34.402Z"
   },
   {
    "duration": 46,
    "start_time": "2022-12-21T16:43:34.407Z"
   },
   {
    "duration": 473,
    "start_time": "2022-12-21T16:43:34.455Z"
   },
   {
    "duration": 167,
    "start_time": "2022-12-21T16:43:34.930Z"
   },
   {
    "duration": 29,
    "start_time": "2022-12-21T16:43:35.099Z"
   },
   {
    "duration": 11,
    "start_time": "2022-12-21T16:43:35.130Z"
   },
   {
    "duration": 63,
    "start_time": "2022-12-21T16:43:35.143Z"
   },
   {
    "duration": 11,
    "start_time": "2022-12-21T16:43:35.209Z"
   },
   {
    "duration": 54,
    "start_time": "2022-12-21T16:43:35.223Z"
   },
   {
    "duration": 62,
    "start_time": "2022-12-21T16:43:35.279Z"
   },
   {
    "duration": 114,
    "start_time": "2022-12-21T16:43:35.343Z"
   },
   {
    "duration": 77,
    "start_time": "2022-12-21T16:43:35.459Z"
   },
   {
    "duration": 4,
    "start_time": "2022-12-21T16:43:35.538Z"
   },
   {
    "duration": 14,
    "start_time": "2022-12-21T16:43:35.544Z"
   },
   {
    "duration": 70,
    "start_time": "2022-12-21T16:43:35.560Z"
   },
   {
    "duration": 70,
    "start_time": "2022-12-21T16:43:35.631Z"
   },
   {
    "duration": 18,
    "start_time": "2022-12-21T16:43:35.703Z"
   },
   {
    "duration": 36,
    "start_time": "2022-12-21T16:43:35.723Z"
   },
   {
    "duration": 27423,
    "start_time": "2022-12-21T16:43:35.761Z"
   },
   {
    "duration": 1365,
    "start_time": "2022-12-21T16:44:03.186Z"
   },
   {
    "duration": 615,
    "start_time": "2022-12-21T16:44:04.553Z"
   },
   {
    "duration": 35,
    "start_time": "2022-12-21T16:44:05.171Z"
   },
   {
    "duration": 83,
    "start_time": "2022-12-21T16:44:05.208Z"
   },
   {
    "duration": 132,
    "start_time": "2022-12-21T16:44:05.294Z"
   },
   {
    "duration": 120,
    "start_time": "2022-12-21T16:44:05.428Z"
   },
   {
    "duration": 288,
    "start_time": "2022-12-21T16:44:05.551Z"
   },
   {
    "duration": 1060,
    "start_time": "2022-12-21T16:44:05.841Z"
   },
   {
    "duration": 4,
    "start_time": "2022-12-21T16:44:06.906Z"
   },
   {
    "duration": 18,
    "start_time": "2022-12-21T16:44:06.912Z"
   },
   {
    "duration": 38,
    "start_time": "2022-12-21T16:44:06.932Z"
   },
   {
    "duration": 24,
    "start_time": "2022-12-21T16:44:06.972Z"
   },
   {
    "duration": 36,
    "start_time": "2022-12-21T16:44:06.998Z"
   },
   {
    "duration": 133,
    "start_time": "2022-12-21T16:44:07.036Z"
   },
   {
    "duration": 9,
    "start_time": "2022-12-21T16:44:07.171Z"
   },
   {
    "duration": 298,
    "start_time": "2022-12-21T16:44:07.183Z"
   },
   {
    "duration": 20,
    "start_time": "2022-12-21T16:44:07.483Z"
   },
   {
    "duration": 8,
    "start_time": "2022-12-21T16:44:07.505Z"
   },
   {
    "duration": 1540,
    "start_time": "2022-12-21T16:44:07.515Z"
   },
   {
    "duration": 18,
    "start_time": "2022-12-21T16:44:09.057Z"
   },
   {
    "duration": 29,
    "start_time": "2022-12-21T16:44:09.076Z"
   },
   {
    "duration": 5,
    "start_time": "2022-12-21T16:44:09.107Z"
   },
   {
    "duration": 13,
    "start_time": "2022-12-21T16:44:09.114Z"
   },
   {
    "duration": 23,
    "start_time": "2022-12-21T16:44:09.130Z"
   },
   {
    "duration": 52,
    "start_time": "2022-12-21T16:44:09.155Z"
   },
   {
    "duration": 5,
    "start_time": "2022-12-21T16:44:09.209Z"
   },
   {
    "duration": 8,
    "start_time": "2022-12-21T16:44:09.216Z"
   },
   {
    "duration": 5,
    "start_time": "2022-12-21T17:15:25.693Z"
   },
   {
    "duration": 7,
    "start_time": "2022-12-21T17:17:32.043Z"
   },
   {
    "duration": 180,
    "start_time": "2022-12-21T17:17:56.114Z"
   },
   {
    "duration": 4,
    "start_time": "2022-12-21T17:18:58.703Z"
   },
   {
    "duration": 52,
    "start_time": "2022-12-21T17:19:10.196Z"
   },
   {
    "duration": 9,
    "start_time": "2022-12-21T17:19:23.170Z"
   },
   {
    "duration": 9,
    "start_time": "2022-12-21T17:24:20.300Z"
   },
   {
    "duration": 1258,
    "start_time": "2022-12-21T17:26:09.847Z"
   },
   {
    "duration": 303,
    "start_time": "2022-12-21T17:26:11.107Z"
   },
   {
    "duration": 25,
    "start_time": "2022-12-21T17:26:11.412Z"
   },
   {
    "duration": 5,
    "start_time": "2022-12-21T17:26:11.440Z"
   },
   {
    "duration": 12,
    "start_time": "2022-12-21T17:26:11.447Z"
   },
   {
    "duration": 42,
    "start_time": "2022-12-21T17:26:11.462Z"
   },
   {
    "duration": 19,
    "start_time": "2022-12-21T17:26:11.507Z"
   },
   {
    "duration": 8,
    "start_time": "2022-12-21T17:26:11.529Z"
   },
   {
    "duration": 29,
    "start_time": "2022-12-21T17:26:11.540Z"
   },
   {
    "duration": 30,
    "start_time": "2022-12-21T17:26:11.573Z"
   },
   {
    "duration": 42,
    "start_time": "2022-12-21T17:26:11.605Z"
   },
   {
    "duration": 7,
    "start_time": "2022-12-21T17:26:11.650Z"
   },
   {
    "duration": 60,
    "start_time": "2022-12-21T17:26:11.659Z"
   },
   {
    "duration": 4,
    "start_time": "2022-12-21T17:26:11.721Z"
   },
   {
    "duration": 35,
    "start_time": "2022-12-21T17:26:11.727Z"
   },
   {
    "duration": 442,
    "start_time": "2022-12-21T17:26:11.764Z"
   },
   {
    "duration": 111,
    "start_time": "2022-12-21T17:26:12.208Z"
   },
   {
    "duration": 77,
    "start_time": "2022-12-21T17:26:12.321Z"
   },
   {
    "duration": 7,
    "start_time": "2022-12-21T17:26:12.400Z"
   },
   {
    "duration": 26,
    "start_time": "2022-12-21T17:26:12.410Z"
   },
   {
    "duration": 7,
    "start_time": "2022-12-21T17:26:12.438Z"
   },
   {
    "duration": 88,
    "start_time": "2022-12-21T17:26:12.447Z"
   },
   {
    "duration": 31,
    "start_time": "2022-12-21T17:26:12.537Z"
   },
   {
    "duration": 82,
    "start_time": "2022-12-21T17:26:12.570Z"
   },
   {
    "duration": 84,
    "start_time": "2022-12-21T17:26:12.654Z"
   },
   {
    "duration": 3,
    "start_time": "2022-12-21T17:26:12.740Z"
   },
   {
    "duration": 9,
    "start_time": "2022-12-21T17:26:12.745Z"
   },
   {
    "duration": 59,
    "start_time": "2022-12-21T17:26:12.758Z"
   },
   {
    "duration": 110,
    "start_time": "2022-12-21T17:26:12.820Z"
   },
   {
    "duration": 19,
    "start_time": "2022-12-21T17:26:12.932Z"
   },
   {
    "duration": 14,
    "start_time": "2022-12-21T17:26:12.953Z"
   },
   {
    "duration": 26471,
    "start_time": "2022-12-21T17:26:12.970Z"
   },
   {
    "duration": 1300,
    "start_time": "2022-12-21T17:26:39.443Z"
   },
   {
    "duration": 533,
    "start_time": "2022-12-21T17:26:40.745Z"
   },
   {
    "duration": 45,
    "start_time": "2022-12-21T17:26:41.282Z"
   },
   {
    "duration": 86,
    "start_time": "2022-12-21T17:26:41.330Z"
   },
   {
    "duration": 147,
    "start_time": "2022-12-21T17:26:41.419Z"
   },
   {
    "duration": 85,
    "start_time": "2022-12-21T17:26:41.568Z"
   },
   {
    "duration": 319,
    "start_time": "2022-12-21T17:26:41.655Z"
   },
   {
    "duration": 1032,
    "start_time": "2022-12-21T17:26:41.976Z"
   },
   {
    "duration": 4,
    "start_time": "2022-12-21T17:26:43.010Z"
   },
   {
    "duration": 18,
    "start_time": "2022-12-21T17:26:43.015Z"
   },
   {
    "duration": 24,
    "start_time": "2022-12-21T17:26:43.034Z"
   },
   {
    "duration": 3,
    "start_time": "2022-12-21T17:26:43.060Z"
   },
   {
    "duration": 64,
    "start_time": "2022-12-21T17:26:43.065Z"
   },
   {
    "duration": 130,
    "start_time": "2022-12-21T17:26:43.131Z"
   },
   {
    "duration": 6,
    "start_time": "2022-12-21T17:26:43.263Z"
   },
   {
    "duration": 292,
    "start_time": "2022-12-21T17:26:43.271Z"
   },
   {
    "duration": 5,
    "start_time": "2022-12-21T17:26:43.565Z"
   },
   {
    "duration": 32,
    "start_time": "2022-12-21T17:26:43.572Z"
   },
   {
    "duration": 8,
    "start_time": "2022-12-21T17:26:43.606Z"
   },
   {
    "duration": 1594,
    "start_time": "2022-12-21T17:26:43.617Z"
   },
   {
    "duration": 26,
    "start_time": "2022-12-21T17:26:45.217Z"
   },
   {
    "duration": 24,
    "start_time": "2022-12-21T17:26:45.246Z"
   },
   {
    "duration": 25,
    "start_time": "2022-12-21T17:26:45.272Z"
   },
   {
    "duration": 9,
    "start_time": "2022-12-21T17:26:45.299Z"
   },
   {
    "duration": 29,
    "start_time": "2022-12-21T17:26:45.310Z"
   },
   {
    "duration": 57,
    "start_time": "2022-12-21T17:26:45.342Z"
   },
   {
    "duration": 5,
    "start_time": "2022-12-21T17:26:45.401Z"
   },
   {
    "duration": 35,
    "start_time": "2022-12-21T17:26:45.408Z"
   },
   {
    "duration": 1256,
    "start_time": "2022-12-21T19:03:11.297Z"
   },
   {
    "duration": 211,
    "start_time": "2022-12-21T19:03:12.555Z"
   },
   {
    "duration": 17,
    "start_time": "2022-12-21T19:03:12.768Z"
   },
   {
    "duration": 5,
    "start_time": "2022-12-21T19:03:12.796Z"
   },
   {
    "duration": 4,
    "start_time": "2022-12-21T19:03:12.804Z"
   },
   {
    "duration": 11,
    "start_time": "2022-12-21T19:03:12.810Z"
   },
   {
    "duration": 18,
    "start_time": "2022-12-21T19:03:12.824Z"
   },
   {
    "duration": 5,
    "start_time": "2022-12-21T19:03:12.844Z"
   },
   {
    "duration": 49,
    "start_time": "2022-12-21T19:03:12.850Z"
   },
   {
    "duration": 4,
    "start_time": "2022-12-21T19:03:12.901Z"
   },
   {
    "duration": 23,
    "start_time": "2022-12-21T19:03:12.907Z"
   },
   {
    "duration": 4,
    "start_time": "2022-12-21T19:03:12.932Z"
   },
   {
    "duration": 32,
    "start_time": "2022-12-21T19:03:12.938Z"
   },
   {
    "duration": 3,
    "start_time": "2022-12-21T19:03:12.998Z"
   },
   {
    "duration": 28,
    "start_time": "2022-12-21T19:03:13.003Z"
   },
   {
    "duration": 410,
    "start_time": "2022-12-21T19:03:13.032Z"
   },
   {
    "duration": 83,
    "start_time": "2022-12-21T19:03:13.444Z"
   },
   {
    "duration": 23,
    "start_time": "2022-12-21T19:03:13.529Z"
   },
   {
    "duration": 7,
    "start_time": "2022-12-21T19:03:13.598Z"
   },
   {
    "duration": 19,
    "start_time": "2022-12-21T19:03:13.607Z"
   },
   {
    "duration": 5,
    "start_time": "2022-12-21T19:03:13.628Z"
   },
   {
    "duration": 67,
    "start_time": "2022-12-21T19:03:13.635Z"
   },
   {
    "duration": 31,
    "start_time": "2022-12-21T19:03:13.703Z"
   },
   {
    "duration": 81,
    "start_time": "2022-12-21T19:03:13.736Z"
   },
   {
    "duration": 45,
    "start_time": "2022-12-21T19:03:13.818Z"
   },
   {
    "duration": 3,
    "start_time": "2022-12-21T19:03:13.864Z"
   },
   {
    "duration": 5,
    "start_time": "2022-12-21T19:03:13.869Z"
   },
   {
    "duration": 62,
    "start_time": "2022-12-21T19:03:13.876Z"
   },
   {
    "duration": 92,
    "start_time": "2022-12-21T19:03:13.940Z"
   },
   {
    "duration": 18,
    "start_time": "2022-12-21T19:03:14.034Z"
   },
   {
    "duration": 12,
    "start_time": "2022-12-21T19:03:14.054Z"
   },
   {
    "duration": 24754,
    "start_time": "2022-12-21T19:03:14.068Z"
   },
   {
    "duration": 1284,
    "start_time": "2022-12-21T19:03:38.823Z"
   },
   {
    "duration": 491,
    "start_time": "2022-12-21T19:03:40.109Z"
   },
   {
    "duration": 25,
    "start_time": "2022-12-21T19:03:40.602Z"
   },
   {
    "duration": 72,
    "start_time": "2022-12-21T19:03:40.629Z"
   },
   {
    "duration": 93,
    "start_time": "2022-12-21T19:03:40.703Z"
   },
   {
    "duration": 67,
    "start_time": "2022-12-21T19:03:40.798Z"
   },
   {
    "duration": 294,
    "start_time": "2022-12-21T19:03:40.867Z"
   },
   {
    "duration": 852,
    "start_time": "2022-12-21T19:03:41.163Z"
   },
   {
    "duration": 4,
    "start_time": "2022-12-21T19:03:42.019Z"
   },
   {
    "duration": 13,
    "start_time": "2022-12-21T19:03:42.025Z"
   },
   {
    "duration": 25,
    "start_time": "2022-12-21T19:03:42.040Z"
   },
   {
    "duration": 3,
    "start_time": "2022-12-21T19:03:42.067Z"
   },
   {
    "duration": 47,
    "start_time": "2022-12-21T19:03:42.071Z"
   },
   {
    "duration": 88,
    "start_time": "2022-12-21T19:03:42.120Z"
   },
   {
    "duration": 4,
    "start_time": "2022-12-21T19:03:42.210Z"
   },
   {
    "duration": 282,
    "start_time": "2022-12-21T19:03:42.216Z"
   },
   {
    "duration": 6,
    "start_time": "2022-12-21T19:03:42.500Z"
   },
   {
    "duration": 47,
    "start_time": "2022-12-21T19:03:42.508Z"
   },
   {
    "duration": 3,
    "start_time": "2022-12-21T19:03:42.557Z"
   },
   {
    "duration": 1499,
    "start_time": "2022-12-21T19:03:42.562Z"
   },
   {
    "duration": 17,
    "start_time": "2022-12-21T19:03:44.063Z"
   },
   {
    "duration": 26,
    "start_time": "2022-12-21T19:03:44.081Z"
   },
   {
    "duration": 4,
    "start_time": "2022-12-21T19:03:44.109Z"
   },
   {
    "duration": 12,
    "start_time": "2022-12-21T19:03:44.115Z"
   },
   {
    "duration": 14,
    "start_time": "2022-12-21T19:03:44.129Z"
   },
   {
    "duration": 27,
    "start_time": "2022-12-21T19:03:44.145Z"
   },
   {
    "duration": 5,
    "start_time": "2022-12-21T19:03:44.197Z"
   },
   {
    "duration": 8,
    "start_time": "2022-12-21T19:03:44.204Z"
   },
   {
    "duration": 1200,
    "start_time": "2022-12-21T23:02:11.614Z"
   },
   {
    "duration": 460,
    "start_time": "2022-12-21T23:02:12.815Z"
   },
   {
    "duration": 14,
    "start_time": "2022-12-21T23:02:13.277Z"
   },
   {
    "duration": 25,
    "start_time": "2022-12-21T23:02:13.293Z"
   },
   {
    "duration": 75,
    "start_time": "2022-12-21T23:02:13.319Z"
   },
   {
    "duration": 41,
    "start_time": "2022-12-21T23:02:13.396Z"
   },
   {
    "duration": 40,
    "start_time": "2022-12-21T23:02:13.438Z"
   },
   {
    "duration": 44,
    "start_time": "2022-12-21T23:02:13.479Z"
   },
   {
    "duration": 31,
    "start_time": "2022-12-21T23:02:13.525Z"
   },
   {
    "duration": 18,
    "start_time": "2022-12-21T23:02:13.559Z"
   },
   {
    "duration": 46,
    "start_time": "2022-12-21T23:02:13.579Z"
   },
   {
    "duration": 24,
    "start_time": "2022-12-21T23:02:13.627Z"
   },
   {
    "duration": 44,
    "start_time": "2022-12-21T23:02:13.653Z"
   },
   {
    "duration": 13,
    "start_time": "2022-12-21T23:02:13.699Z"
   },
   {
    "duration": 54,
    "start_time": "2022-12-21T23:02:13.713Z"
   },
   {
    "duration": 578,
    "start_time": "2022-12-21T23:02:13.769Z"
   },
   {
    "duration": 116,
    "start_time": "2022-12-21T23:02:14.349Z"
   },
   {
    "duration": 68,
    "start_time": "2022-12-21T23:02:14.467Z"
   },
   {
    "duration": 6,
    "start_time": "2022-12-21T23:02:14.537Z"
   },
   {
    "duration": 52,
    "start_time": "2022-12-21T23:02:14.545Z"
   },
   {
    "duration": 27,
    "start_time": "2022-12-21T23:02:14.599Z"
   },
   {
    "duration": 64,
    "start_time": "2022-12-21T23:02:14.628Z"
   },
   {
    "duration": 95,
    "start_time": "2022-12-21T23:02:14.694Z"
   },
   {
    "duration": 95,
    "start_time": "2022-12-21T23:02:14.791Z"
   },
   {
    "duration": 62,
    "start_time": "2022-12-21T23:02:14.888Z"
   },
   {
    "duration": 3,
    "start_time": "2022-12-21T23:02:14.951Z"
   },
   {
    "duration": 31,
    "start_time": "2022-12-21T23:02:14.955Z"
   },
   {
    "duration": 80,
    "start_time": "2022-12-21T23:02:14.990Z"
   },
   {
    "duration": 60,
    "start_time": "2022-12-21T23:02:15.072Z"
   },
   {
    "duration": 29,
    "start_time": "2022-12-21T23:02:15.134Z"
   },
   {
    "duration": 15,
    "start_time": "2022-12-21T23:02:15.165Z"
   },
   {
    "duration": 22336,
    "start_time": "2022-12-21T23:02:15.182Z"
   },
   {
    "duration": 1096,
    "start_time": "2022-12-21T23:02:37.520Z"
   },
   {
    "duration": 462,
    "start_time": "2022-12-21T23:02:38.618Z"
   },
   {
    "duration": 44,
    "start_time": "2022-12-21T23:02:39.082Z"
   },
   {
    "duration": 52,
    "start_time": "2022-12-21T23:02:39.128Z"
   },
   {
    "duration": 89,
    "start_time": "2022-12-21T23:02:39.182Z"
   },
   {
    "duration": 78,
    "start_time": "2022-12-21T23:02:39.273Z"
   },
   {
    "duration": 251,
    "start_time": "2022-12-21T23:02:39.352Z"
   },
   {
    "duration": 758,
    "start_time": "2022-12-21T23:02:39.605Z"
   },
   {
    "duration": 4,
    "start_time": "2022-12-21T23:02:40.365Z"
   },
   {
    "duration": 25,
    "start_time": "2022-12-21T23:02:40.371Z"
   },
   {
    "duration": 23,
    "start_time": "2022-12-21T23:02:40.398Z"
   },
   {
    "duration": 3,
    "start_time": "2022-12-21T23:02:40.423Z"
   },
   {
    "duration": 75,
    "start_time": "2022-12-21T23:02:40.428Z"
   },
   {
    "duration": 68,
    "start_time": "2022-12-21T23:02:40.505Z"
   },
   {
    "duration": 3,
    "start_time": "2022-12-21T23:02:40.575Z"
   },
   {
    "duration": 234,
    "start_time": "2022-12-21T23:02:40.580Z"
   },
   {
    "duration": 10,
    "start_time": "2022-12-21T23:02:40.816Z"
   },
   {
    "duration": 11,
    "start_time": "2022-12-21T23:02:40.828Z"
   },
   {
    "duration": 6,
    "start_time": "2022-12-21T23:02:40.841Z"
   },
   {
    "duration": 1381,
    "start_time": "2022-12-21T23:02:40.849Z"
   },
   {
    "duration": 16,
    "start_time": "2022-12-21T23:02:42.232Z"
   },
   {
    "duration": 27,
    "start_time": "2022-12-21T23:02:42.250Z"
   },
   {
    "duration": 4,
    "start_time": "2022-12-21T23:02:42.279Z"
   },
   {
    "duration": 10,
    "start_time": "2022-12-21T23:02:42.285Z"
   },
   {
    "duration": 13,
    "start_time": "2022-12-21T23:02:42.297Z"
   },
   {
    "duration": 26,
    "start_time": "2022-12-21T23:02:42.325Z"
   },
   {
    "duration": 4,
    "start_time": "2022-12-21T23:02:42.352Z"
   },
   {
    "duration": 9,
    "start_time": "2022-12-21T23:02:42.358Z"
   }
  ],
  "kernelspec": {
   "display_name": "Python 3 (ipykernel)",
   "language": "python",
   "name": "python3"
  },
  "language_info": {
   "codemirror_mode": {
    "name": "ipython",
    "version": 3
   },
   "file_extension": ".py",
   "mimetype": "text/x-python",
   "name": "python",
   "nbconvert_exporter": "python",
   "pygments_lexer": "ipython3",
   "version": "3.9.7"
  },
  "toc": {
   "base_numbering": 1,
   "nav_menu": {},
   "number_sections": true,
   "sideBar": true,
   "skip_h1_title": true,
   "title_cell": "Table of Contents",
   "title_sidebar": "Contents",
   "toc_cell": false,
   "toc_position": {
    "height": "calc(100% - 180px)",
    "left": "10px",
    "top": "150px",
    "width": "165px"
   },
   "toc_section_display": true,
   "toc_window_display": true
  }
 },
 "nbformat": 4,
 "nbformat_minor": 5
}
